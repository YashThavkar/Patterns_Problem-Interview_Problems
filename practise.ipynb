{
 "cells": [
  {
   "cell_type": "code",
   "execution_count": 1,
   "id": "c248faa9",
   "metadata": {},
   "outputs": [
    {
     "name": "stdout",
     "output_type": "stream",
     "text": [
      "enter the number10\n",
      "* * * * * * * * * * \n",
      "* * * * * * * * * * \n",
      "* * * * * * * * * * \n",
      "* * * * * * * * * * \n",
      "* * * * * * * * * * \n",
      "* * * * * * * * * * \n",
      "* * * * * * * * * * \n",
      "* * * * * * * * * * \n",
      "* * * * * * * * * * \n",
      "* * * * * * * * * * \n"
     ]
    }
   ],
   "source": [
    "n = int(input(\"enter the number\"))\n",
    "for i in range(0, n):\n",
    "    for j in range(0,n):\n",
    "        print(\"*\", end =' ')\n",
    "    print()\n",
    "        "
   ]
  },
  {
   "cell_type": "code",
   "execution_count": 2,
   "id": "73a6142b",
   "metadata": {
    "scrolled": true
   },
   "outputs": [
    {
     "name": "stdout",
     "output_type": "stream",
     "text": [
      "10 11 12 13 14 15 16 17 18 19 20 "
     ]
    }
   ],
   "source": [
    "def series(num):\n",
    "\n",
    "    list = []\n",
    "    if num<=20:\n",
    "        print(num, end=' ')\n",
    "        num=num+1\n",
    "        series(num)\n",
    "        \n",
    "series(10)\n",
    "    \n",
    "    "
   ]
  },
  {
   "cell_type": "code",
   "execution_count": 3,
   "id": "afcc156a",
   "metadata": {},
   "outputs": [
    {
     "name": "stdout",
     "output_type": "stream",
     "text": [
      "10 11 12 13 14 15 16 17 18 19 20 "
     ]
    }
   ],
   "source": [
    "#recurssion\n",
    "def series(num):\n",
    "    if num<=20:\n",
    "        print(num, end =' ')\n",
    "        num = num+1\n",
    "        series(num)\n",
    "series(10)"
   ]
  },
  {
   "cell_type": "code",
   "execution_count": 4,
   "id": "34d9fb18",
   "metadata": {},
   "outputs": [
    {
     "name": "stdout",
     "output_type": "stream",
     "text": [
      "enter the first number to start the series :-10\n",
      "enter the last number to end the series :- 20\n",
      "10 11 12 13 14 15 16 17 18 19 20 "
     ]
    }
   ],
   "source": [
    "n = int(input(\"enter the first number to start the series :-\"))\n",
    "m= int(input(\"enter the last number to end the series :- \"))\n",
    "for i in range(n,m+1):\n",
    "    if n<=m:\n",
    "        print(n, end=' ')\n",
    "        n=n+1\n",
    "    \n",
    "    "
   ]
  },
  {
   "cell_type": "code",
   "execution_count": 5,
   "id": "aa5e4b0d",
   "metadata": {},
   "outputs": [
    {
     "name": "stdout",
     "output_type": "stream",
     "text": [
      "0 0 0 0 0 0 0 0 0 0 \n",
      "1 1 1 1 1 1 1 1 1 1 \n",
      "2 2 2 2 2 2 2 2 2 2 \n",
      "3 3 3 3 3 3 3 3 3 3 \n",
      "4 4 4 4 4 4 4 4 4 4 \n",
      "5 5 5 5 5 5 5 5 5 5 \n",
      "6 6 6 6 6 6 6 6 6 6 \n",
      "7 7 7 7 7 7 7 7 7 7 \n",
      "8 8 8 8 8 8 8 8 8 8 \n",
      "9 9 9 9 9 9 9 9 9 9 \n",
      "10 10 10 10 10 10 10 10 10 10 \n"
     ]
    }
   ],
   "source": [
    "n =10\n",
    "for i in range(0,n+1):\n",
    "    for j in range(0,n):\n",
    "        print(i, end=' ')\n",
    "    print()"
   ]
  },
  {
   "cell_type": "code",
   "execution_count": 6,
   "id": "fcf32eea",
   "metadata": {},
   "outputs": [
    {
     "name": "stdout",
     "output_type": "stream",
     "text": [
      "0 1 2 3 4 5 6 7 8 9 10 \n",
      "0 1 2 3 4 5 6 7 8 9 10 \n",
      "0 1 2 3 4 5 6 7 8 9 10 \n",
      "0 1 2 3 4 5 6 7 8 9 10 \n",
      "0 1 2 3 4 5 6 7 8 9 10 \n",
      "0 1 2 3 4 5 6 7 8 9 10 \n",
      "0 1 2 3 4 5 6 7 8 9 10 \n",
      "0 1 2 3 4 5 6 7 8 9 10 \n",
      "0 1 2 3 4 5 6 7 8 9 10 \n",
      "0 1 2 3 4 5 6 7 8 9 10 \n"
     ]
    }
   ],
   "source": [
    "for i in range(0, n):\n",
    "    for j in range(0, n+1):\n",
    "        print(j, end= ' ')\n",
    "    print()"
   ]
  },
  {
   "cell_type": "code",
   "execution_count": 7,
   "id": "3fd892cc",
   "metadata": {},
   "outputs": [
    {
     "name": "stdout",
     "output_type": "stream",
     "text": [
      "A A A A A A A A A A \n",
      "B B B B B B B B B B \n",
      "C C C C C C C C C C \n",
      "D D D D D D D D D D \n",
      "E E E E E E E E E E \n",
      "F F F F F F F F F F \n",
      "G G G G G G G G G G \n",
      "H H H H H H H H H H \n",
      "I I I I I I I I I I \n",
      "J J J J J J J J J J \n",
      "K K K K K K K K K K \n"
     ]
    }
   ],
   "source": [
    "for i in range(0, n+1 ):\n",
    "    for j in range(0, n ):\n",
    "        print(chr(65+i), end =\" \")\n",
    "    print()\n",
    "              "
   ]
  },
  {
   "cell_type": "code",
   "execution_count": 8,
   "id": "f2625dd8",
   "metadata": {},
   "outputs": [
    {
     "name": "stdout",
     "output_type": "stream",
     "text": [
      "ABCDEFGHIJ\n",
      "ABCDEFGHIJ\n",
      "ABCDEFGHIJ\n",
      "ABCDEFGHIJ\n",
      "ABCDEFGHIJ\n",
      "ABCDEFGHIJ\n",
      "ABCDEFGHIJ\n",
      "ABCDEFGHIJ\n",
      "ABCDEFGHIJ\n",
      "ABCDEFGHIJ\n"
     ]
    }
   ],
   "source": [
    "n = 10\n",
    "for  i in range(0, n):\n",
    "    for j  in range(0, n):\n",
    "        print(chr(65+j), end='')\n",
    "        \n",
    "    print()"
   ]
  },
  {
   "cell_type": "code",
   "execution_count": 9,
   "id": "289ebd7d",
   "metadata": {},
   "outputs": [
    {
     "name": "stdout",
     "output_type": "stream",
     "text": [
      "10 10 10 10 10 10 10 10 10 10 \n",
      "9 9 9 9 9 9 9 9 9 9 \n",
      "8 8 8 8 8 8 8 8 8 8 \n",
      "7 7 7 7 7 7 7 7 7 7 \n",
      "6 6 6 6 6 6 6 6 6 6 \n",
      "5 5 5 5 5 5 5 5 5 5 \n",
      "4 4 4 4 4 4 4 4 4 4 \n",
      "3 3 3 3 3 3 3 3 3 3 \n",
      "2 2 2 2 2 2 2 2 2 2 \n",
      "1 1 1 1 1 1 1 1 1 1 \n"
     ]
    }
   ],
   "source": [
    "for i in range(0, n ):\n",
    "    for  j in range(0, n):\n",
    "        print(n-i , end =' ')\n",
    "    print()"
   ]
  },
  {
   "cell_type": "code",
   "execution_count": 10,
   "id": "6ae361a2",
   "metadata": {},
   "outputs": [
    {
     "name": "stdout",
     "output_type": "stream",
     "text": [
      "10987654321\n",
      "10987654321\n",
      "10987654321\n",
      "10987654321\n",
      "10987654321\n",
      "10987654321\n",
      "10987654321\n",
      "10987654321\n",
      "10987654321\n",
      "10987654321\n"
     ]
    }
   ],
   "source": [
    "\n",
    "for i in range(1, n+1):\n",
    "    for j in range(1 ,n+1):\n",
    "        print(n+1-j , end=\"\")\n",
    "        \n",
    "    print()"
   ]
  },
  {
   "cell_type": "code",
   "execution_count": 11,
   "id": "5f382fe3",
   "metadata": {},
   "outputs": [
    {
     "name": "stdout",
     "output_type": "stream",
     "text": [
      "K K K K K K K K K K K \n",
      "J J J J J J J J J J J \n",
      "I I I I I I I I I I I \n",
      "H H H H H H H H H H H \n",
      "G G G G G G G G G G G \n",
      "F F F F F F F F F F F \n",
      "E E E E E E E E E E E \n",
      "D D D D D D D D D D D \n",
      "C C C C C C C C C C C \n",
      "B B B B B B B B B B B \n",
      "A A A A A A A A A A A \n"
     ]
    }
   ],
   "source": [
    "for i in range(0 , n+1 ):\n",
    "    for j in range(0, n+1 ):\n",
    "        print(chr(65+n-i), end =' ')\n",
    "    print()"
   ]
  },
  {
   "cell_type": "code",
   "execution_count": 12,
   "id": "c421baf8",
   "metadata": {},
   "outputs": [
    {
     "name": "stdout",
     "output_type": "stream",
     "text": [
      "K J I H G F E D C B A \n",
      "K J I H G F E D C B A \n",
      "K J I H G F E D C B A \n",
      "K J I H G F E D C B A \n",
      "K J I H G F E D C B A \n",
      "K J I H G F E D C B A \n",
      "K J I H G F E D C B A \n",
      "K J I H G F E D C B A \n",
      "K J I H G F E D C B A \n",
      "K J I H G F E D C B A \n",
      "K J I H G F E D C B A \n"
     ]
    }
   ],
   "source": [
    "for i in range(0,n+1):\n",
    "    for j in range(0, n+1):\n",
    "        print(chr(65+n-j), end=' ')\n",
    "        \n",
    "    print()"
   ]
  },
  {
   "cell_type": "code",
   "execution_count": 13,
   "id": "779519a3",
   "metadata": {},
   "outputs": [
    {
     "name": "stdout",
     "output_type": "stream",
     "text": [
      "\n",
      "*\n",
      "**\n",
      "***\n",
      "****\n",
      "*****\n",
      "******\n",
      "*******\n",
      "********\n",
      "*********\n"
     ]
    }
   ],
   "source": [
    "for i in range(0,n):\n",
    "    for j in range(0,i):\n",
    "        print(\"*\", end = \"\")\n",
    "    print()"
   ]
  },
  {
   "cell_type": "code",
   "execution_count": 14,
   "id": "ad2bec6b",
   "metadata": {},
   "outputs": [
    {
     "name": "stdout",
     "output_type": "stream",
     "text": [
      "\n",
      "*\n",
      "**\n",
      "***\n",
      "****\n",
      "*****\n",
      "******\n",
      "*******\n",
      "********\n",
      "*********\n"
     ]
    }
   ],
   "source": [
    "for i in range(0, n):\n",
    "    print(\"*\" *i)"
   ]
  },
  {
   "cell_type": "code",
   "execution_count": null,
   "id": "983c336a",
   "metadata": {},
   "outputs": [],
   "source": []
  },
  {
   "cell_type": "code",
   "execution_count": 15,
   "id": "e4b602eb",
   "metadata": {},
   "outputs": [
    {
     "name": "stdout",
     "output_type": "stream",
     "text": [
      "**********\n",
      "*********\n",
      "********\n",
      "*******\n",
      "******\n",
      "*****\n",
      "****\n",
      "***\n",
      "**\n",
      "*\n"
     ]
    }
   ],
   "source": [
    "for i in range(0,n):\n",
    "    for j in range(i, n):\n",
    "        print(\"*\", end='')\n",
    "    print()"
   ]
  },
  {
   "cell_type": "code",
   "execution_count": 16,
   "id": "e79578f7",
   "metadata": {},
   "outputs": [
    {
     "name": "stdout",
     "output_type": "stream",
     "text": [
      "0 0 0 0 0 0 0 0 0 0 \n",
      "1 1 1 1 1 1 1 1 1 \n",
      "2 2 2 2 2 2 2 2 \n",
      "3 3 3 3 3 3 3 \n",
      "4 4 4 4 4 4 \n",
      "5 5 5 5 5 \n",
      "6 6 6 6 \n",
      "7 7 7 \n",
      "8 8 \n",
      "9 \n"
     ]
    }
   ],
   "source": [
    "for i in range(0,n):\n",
    "    for j in range(i,n):\n",
    "        print(i ,end = ' ')\n",
    "    print()"
   ]
  },
  {
   "cell_type": "code",
   "execution_count": 17,
   "id": "6be0f4da",
   "metadata": {},
   "outputs": [
    {
     "name": "stdout",
     "output_type": "stream",
     "text": [
      "0123456789\n",
      "123456789\n",
      "23456789\n",
      "3456789\n",
      "456789\n",
      "56789\n",
      "6789\n",
      "789\n",
      "89\n",
      "9\n"
     ]
    }
   ],
   "source": [
    "for i in range(0, n):\n",
    "    for j in range(i, n):\n",
    "        print(j, end='')\n",
    "    print()"
   ]
  },
  {
   "cell_type": "code",
   "execution_count": 18,
   "id": "5c438fe2",
   "metadata": {},
   "outputs": [
    {
     "name": "stdout",
     "output_type": "stream",
     "text": [
      "10987654321\n",
      "987654321\n",
      "87654321\n",
      "7654321\n",
      "654321\n",
      "54321\n",
      "4321\n",
      "321\n",
      "21\n",
      "1\n"
     ]
    }
   ],
   "source": [
    "for i in range(0,n):\n",
    "    for j in range(i, n):\n",
    "        print(n-j, end='')\n",
    "    print()"
   ]
  },
  {
   "cell_type": "code",
   "execution_count": 19,
   "id": "ce5b1d70",
   "metadata": {},
   "outputs": [
    {
     "name": "stdout",
     "output_type": "stream",
     "text": [
      "AAAAAAAAAA\n",
      "BBBBBBBBB\n",
      "CCCCCCCC\n",
      "DDDDDDD\n",
      "EEEEEE\n",
      "FFFFF\n",
      "GGGG\n",
      "HHH\n",
      "II\n",
      "J\n"
     ]
    }
   ],
   "source": [
    "for i in range(0,n):\n",
    "    for j in range(i, n):\n",
    "        print(chr(65+i), end='')\n",
    "    print()"
   ]
  },
  {
   "cell_type": "code",
   "execution_count": 20,
   "id": "fb98d94e",
   "metadata": {},
   "outputs": [
    {
     "name": "stdout",
     "output_type": "stream",
     "text": [
      "ABCDEFGHIJ\n",
      "BCDEFGHIJ\n",
      "CDEFGHIJ\n",
      "DEFGHIJ\n",
      "EFGHIJ\n",
      "FGHIJ\n",
      "GHIJ\n",
      "HIJ\n",
      "IJ\n",
      "J\n"
     ]
    }
   ],
   "source": [
    "for i in range(0, n):\n",
    "    for j in range(i,n):\n",
    "        print(chr(65+j), end='')\n",
    "    print()"
   ]
  },
  {
   "cell_type": "code",
   "execution_count": 21,
   "id": "3c008d3f",
   "metadata": {},
   "outputs": [
    {
     "name": "stdout",
     "output_type": "stream",
     "text": [
      "KKKKKKKKKKK\n",
      "JJJJJJJJJJ\n",
      "IIIIIIIII\n",
      "HHHHHHHH\n",
      "GGGGGGG\n",
      "FFFFFF\n",
      "EEEEE\n",
      "DDDD\n",
      "CCC\n",
      "BB\n",
      "A\n"
     ]
    }
   ],
   "source": [
    "for i in range(0, n+1):\n",
    "    for j in range(i, n+1):\n",
    "        print(chr(65+n-i), end='')\n",
    "    print()"
   ]
  },
  {
   "cell_type": "code",
   "execution_count": 22,
   "id": "46fb58b8",
   "metadata": {},
   "outputs": [
    {
     "name": "stdout",
     "output_type": "stream",
     "text": [
      "KJIHGFEDCBA\n",
      "JIHGFEDCBA\n",
      "IHGFEDCBA\n",
      "HGFEDCBA\n",
      "GFEDCBA\n",
      "FEDCBA\n",
      "EDCBA\n",
      "DCBA\n",
      "CBA\n",
      "BA\n",
      "A\n"
     ]
    }
   ],
   "source": [
    "for i in range(0, n+1):\n",
    "    for j in range(i, n+1):\n",
    "        print(chr(65+n-j), end='')\n",
    "    print()"
   ]
  },
  {
   "cell_type": "code",
   "execution_count": 12,
   "id": "79740f1b",
   "metadata": {},
   "outputs": [
    {
     "name": "stdout",
     "output_type": "stream",
     "text": [
      "1 1 2 3 5 8 13 21 34 55 89 "
     ]
    }
   ],
   "source": [
    "#fibbonacci\n",
    "def fibb(num):\n",
    "    a= 0\n",
    "    b=1\n",
    "    while b<num:\n",
    "        print(b, end=' ')\n",
    "        a,b =b,a+b\n",
    "    \n",
    "    \n",
    "fibb(100)\n"
   ]
  },
  {
   "cell_type": "code",
   "execution_count": 24,
   "id": "707a8ffd",
   "metadata": {},
   "outputs": [
    {
     "name": "stdout",
     "output_type": "stream",
     "text": [
      "            \n",
      "          * \n",
      "         ** \n",
      "        *** \n",
      "       **** \n",
      "      ***** \n",
      "     ****** \n",
      "    ******* \n",
      "   ******** \n",
      "  ********* \n"
     ]
    }
   ],
   "source": [
    "for i in range(0, n):\n",
    "#    for j in range(i, n):\n",
    "    print(\" \"*(n-i), \"*\"*i, end=' ')\n",
    "    print()"
   ]
  },
  {
   "cell_type": "code",
   "execution_count": 25,
   "id": "bd98dd6c",
   "metadata": {},
   "outputs": [
    {
     "name": "stdout",
     "output_type": "stream",
     "text": [
      "            \n",
      "          * \n",
      "         ** \n",
      "        *** \n",
      "       **** \n",
      "      ***** \n",
      "     ****** \n",
      "    ******* \n",
      "   ******** \n",
      "  ********* \n"
     ]
    }
   ],
   "source": [
    "for i  in range(0, n):\n",
    "    print(\" \"*(n-i), \"*\"*i, end=' ')\n",
    "    print()"
   ]
  },
  {
   "cell_type": "code",
   "execution_count": 26,
   "id": "4d60a4a8",
   "metadata": {},
   "outputs": [
    {
     "name": "stdout",
     "output_type": "stream",
     "text": [
      "           \n",
      "          * \n",
      "         * * \n",
      "        * * * \n",
      "       * * * * \n",
      "      * * * * * \n",
      "     * * * * * * \n",
      "    * * * * * * * \n",
      "   * * * * * * * * \n",
      "  * * * * * * * * * \n"
     ]
    }
   ],
   "source": [
    "for i in range(0, n ):\n",
    "    print(\" \"* (n-i), end=' ')\n",
    "    for j in range(0,i):\n",
    "        print(\"*\"+' ', end='')\n",
    "    print()\n",
    "    "
   ]
  },
  {
   "cell_type": "code",
   "execution_count": 27,
   "id": "1c45b1b3",
   "metadata": {},
   "outputs": [
    {
     "name": "stdout",
     "output_type": "stream",
     "text": [
      "          \n",
      "         1 \n",
      "        2 2 \n",
      "       3 3 3 \n",
      "      4 4 4 4 \n",
      "     5 5 5 5 5 \n",
      "    6 6 6 6 6 6 \n",
      "   7 7 7 7 7 7 7 \n",
      "  8 8 8 8 8 8 8 8 \n",
      " 9 9 9 9 9 9 9 9 9 \n"
     ]
    }
   ],
   "source": [
    "for i in range(0,n ):\n",
    "    print(\" \"*(n-i), end='')\n",
    "    for j in range(0,i):\n",
    "        print(str(i)+' ', end='')\n",
    "    print()"
   ]
  },
  {
   "cell_type": "code",
   "execution_count": 28,
   "id": "e55204a2",
   "metadata": {},
   "outputs": [
    {
     "name": "stdout",
     "output_type": "stream",
     "text": [
      "          \n",
      "         \n",
      "        1 \n",
      "       1 2 \n",
      "      1 2 3 \n",
      "     1 2 3 4 \n",
      "    1 2 3 4 5 \n",
      "   1 2 3 4 5 6 \n",
      "  1 2 3 4 5 6 7 \n",
      " 1 2 3 4 5 6 7 8 \n"
     ]
    }
   ],
   "source": [
    "for i in range(0,n ):\n",
    "    print(\" \"*(n-i), end='')\n",
    "    for j in range(1,i):\n",
    "        print(str(j)+' ', end='')\n",
    "    print()"
   ]
  },
  {
   "cell_type": "code",
   "execution_count": 29,
   "id": "0cf5dbd9",
   "metadata": {},
   "outputs": [
    {
     "name": "stdout",
     "output_type": "stream",
     "text": [
      "         A \n",
      "        B B \n",
      "       C C C \n",
      "      D D D D \n",
      "     E E E E E \n",
      "    F F F F F F \n",
      "   G G G G G G G \n",
      "  H H H H H H H H \n",
      " I I I I I I I I I \n",
      "J J J J J J J J J J \n"
     ]
    }
   ],
   "source": [
    "for i in range(1,n+1):\n",
    "    print(\" \"*(n-i), end='')\n",
    "    for j in range(1,i+1):\n",
    "        print(chr(64+i)+' ', end='')\n",
    "    print()"
   ]
  },
  {
   "cell_type": "code",
   "execution_count": 30,
   "id": "4db5a971",
   "metadata": {},
   "outputs": [
    {
     "name": "stdout",
     "output_type": "stream",
     "text": [
      "         A \n",
      "        A B \n",
      "       A B C \n",
      "      A B C D \n",
      "     A B C D E \n",
      "    A B C D E F \n",
      "   A B C D E F G \n",
      "  A B C D E F G H \n",
      " A B C D E F G H I \n",
      "A B C D E F G H I J \n"
     ]
    }
   ],
   "source": [
    "for i in range(1,n+1):\n",
    "    print(\" \"*(n-i), end='')\n",
    "    for j in range(1,i+1):\n",
    "        print(chr(64+j)+' ', end='')\n",
    "    print()"
   ]
  },
  {
   "cell_type": "code",
   "execution_count": 31,
   "id": "0438a10e",
   "metadata": {},
   "outputs": [
    {
     "name": "stdout",
     "output_type": "stream",
     "text": [
      " **********\n",
      "  *********\n",
      "   ********\n",
      "    *******\n",
      "     ******\n",
      "      *****\n",
      "       ****\n",
      "        ***\n",
      "         **\n",
      "          *\n"
     ]
    }
   ],
   "source": [
    "for i in range(0, n):\n",
    "#     for j in range(0, i):\n",
    "    print(\" \"*i, \"*\"*(n-i), end='')\n",
    "    print()\n"
   ]
  },
  {
   "cell_type": "code",
   "execution_count": 32,
   "id": "7228b6d2",
   "metadata": {},
   "outputs": [
    {
     "name": "stdout",
     "output_type": "stream",
     "text": [
      " * * * * * * * * * * \n",
      "  * * * * * * * * * \n",
      "   * * * * * * * * \n",
      "    * * * * * * * \n",
      "     * * * * * * \n",
      "      * * * * * \n",
      "       * * * * \n",
      "        * * * \n",
      "         * * \n",
      "          * \n"
     ]
    }
   ],
   "source": [
    "for i in range(0,n):\n",
    "#    for j in range(0,i):\n",
    "    print(\" \"*i, \"* \"*(n-i), end='')\n",
    "    print()\n",
    "    "
   ]
  },
  {
   "cell_type": "code",
   "execution_count": 33,
   "id": "cf3b973a",
   "metadata": {},
   "outputs": [
    {
     "name": "stdout",
     "output_type": "stream",
     "text": [
      " 10\n",
      "  9\n",
      "   8\n",
      "    7\n",
      "     6\n",
      "      5\n",
      "       4\n",
      "        3\n",
      "         2\n",
      "          1\n"
     ]
    }
   ],
   "source": [
    "for i in range(0, n):\n",
    "    print(\" \"*i, str(n-i), end='')\n",
    "    print()\n",
    "    \n",
    "    "
   ]
  },
  {
   "cell_type": "code",
   "execution_count": 34,
   "id": "55e6813d",
   "metadata": {},
   "outputs": [
    {
     "name": "stdout",
     "output_type": "stream",
     "text": [
      " 0000000000\n",
      "  111111111\n",
      "   22222222\n",
      "    3333333\n",
      "     444444\n",
      "      55555\n",
      "       6666\n",
      "        777\n",
      "         88\n",
      "          9\n"
     ]
    }
   ],
   "source": [
    "for i in range(0, n):\n",
    "#     for j in range(0, i):\n",
    "    print(\" \"*i, str(i)*(n-i), end='')\n",
    "    print()"
   ]
  },
  {
   "cell_type": "code",
   "execution_count": 35,
   "id": "bfecfc73",
   "metadata": {},
   "outputs": [
    {
     "name": "stdout",
     "output_type": "stream",
     "text": [
      " 10101010101010101010\n",
      "  101010101010101010\n",
      "   1010101010101010\n",
      "    10101010101010\n",
      "     101010101010\n",
      "      1010101010\n",
      "       10101010\n",
      "        101010\n",
      "         1010\n",
      "          10\n"
     ]
    }
   ],
   "source": [
    "for i in range(0, n):\n",
    "#     for j in range(0, i):\n",
    "    print(\" \"*i, str(n)*(n-i), end='')\n",
    "    print()"
   ]
  },
  {
   "cell_type": "code",
   "execution_count": 36,
   "id": "5cf7f24b",
   "metadata": {},
   "outputs": [
    {
     "name": "stdout",
     "output_type": "stream",
     "text": [
      "Enter the number of rows: 10\n",
      "           *\n",
      "          ***\n",
      "         *****\n",
      "        *******\n",
      "       *********\n",
      "      ***********\n",
      "     *************\n",
      "    ***************\n",
      "   *****************\n",
      "  *******************\n"
     ]
    }
   ],
   "source": [
    "user = int(input(\"Enter the number of rows: \"))\n",
    "for i in range(1,user+1):\n",
    "    print(\" \" * (user+1-i) , \"*\" *(i*2-1) ,end=\"\")\n",
    "    print()"
   ]
  },
  {
   "cell_type": "code",
   "execution_count": 37,
   "id": "30a94445",
   "metadata": {},
   "outputs": [
    {
     "name": "stdout",
     "output_type": "stream",
     "text": [
      " 10 10 10 10 10 10 10 10 10 10  10  10  10  10  10  10  10  10  10   10   10   10   10   10   10   10   10    10    10    10    10    10    10    10     10     10     10     10     10     10      10      10      10      10      10       10       10       10       10        10        10        10         10         10          10"
     ]
    }
   ],
   "source": [
    "n= 10\n",
    "for i in range (0, n):\n",
    "    for j in range(i,n):\n",
    "        print(\" \"*i , n , end='')\n",
    "# print()"
   ]
  },
  {
   "cell_type": "code",
   "execution_count": 38,
   "id": "f343fdc3",
   "metadata": {},
   "outputs": [
    {
     "name": "stdout",
     "output_type": "stream",
     "text": [
      " * * * * * * * * * * \n",
      "  * * * * * * * * * \n",
      "   * * * * * * * * \n",
      "    * * * * * * * \n",
      "     * * * * * * \n",
      "      * * * * * \n",
      "       * * * * \n",
      "        * * * \n",
      "         * * \n",
      "          * \n"
     ]
    }
   ],
   "source": [
    "for i in range(0,n):\n",
    "    print(\" \"*i, \"* \"*(n-i), end='')\n",
    "    print()"
   ]
  },
  {
   "cell_type": "code",
   "execution_count": 39,
   "id": "ee08bd6c",
   "metadata": {},
   "outputs": [
    {
     "name": "stdout",
     "output_type": "stream",
     "text": [
      "          *\n",
      "         ***\n",
      "        *****\n",
      "       *******\n",
      "      *********\n",
      "     ***********\n",
      "    *************\n",
      "   ***************\n",
      "  *****************\n"
     ]
    }
   ],
   "source": [
    "for i in range(1,n):\n",
    "    print(\" \"*(n-i), \"*\"*(i*2-1), end='')\n",
    "    print()    "
   ]
  },
  {
   "cell_type": "code",
   "execution_count": 40,
   "id": "d922fff8",
   "metadata": {},
   "outputs": [
    {
     "name": "stdout",
     "output_type": "stream",
     "text": [
      "           \n",
      "          1\n",
      "         222\n",
      "        33333\n",
      "       4444444\n",
      "      555555555\n",
      "     66666666666\n",
      "    7777777777777\n",
      "   888888888888888\n",
      "  99999999999999999\n"
     ]
    }
   ],
   "source": [
    "for i in range(0,n):\n",
    "    print(\" \"*(n-i), str(i)*(i*2-1),end='')\n",
    "    print()"
   ]
  },
  {
   "cell_type": "code",
   "execution_count": 41,
   "id": "7ee800be",
   "metadata": {},
   "outputs": [
    {
     "name": "stdout",
     "output_type": "stream",
     "text": [
      "           \n",
      "          1\n",
      "         333\n",
      "        55555\n",
      "       7777777\n",
      "      999999999\n",
      "     1111111111111111111111\n",
      "    13131313131313131313131313\n",
      "   151515151515151515151515151515\n",
      "  1717171717171717171717171717171717\n"
     ]
    }
   ],
   "source": [
    "for i in range(0,n):\n",
    "    p=i*2-1\n",
    "    print(\" \"*(n-i), str(p)*(i*2-1),end='')\n",
    "    print()"
   ]
  },
  {
   "cell_type": "code",
   "execution_count": 42,
   "id": "b3136c89",
   "metadata": {},
   "outputs": [
    {
     "name": "stdout",
     "output_type": "stream",
     "text": [
      "         1\n",
      "        321\n",
      "       54321\n",
      "      7654321\n",
      "     987654321\n",
      "    1110987654321\n",
      "   13121110987654321\n",
      "  151413121110987654321\n",
      " 1716151413121110987654321\n"
     ]
    }
   ],
   "source": [
    "for i in range(1,n):\n",
    "    p =i\n",
    "    print(\" \"*(n-i),end=\"\")\n",
    "    for j in range(i*2-1, 0,-1):\n",
    "        print(j,end='')\n",
    "    print()"
   ]
  },
  {
   "cell_type": "code",
   "execution_count": 43,
   "id": "eee29285",
   "metadata": {},
   "outputs": [
    {
     "name": "stdout",
     "output_type": "stream",
     "text": [
      "           \n",
      "          A\n",
      "         BBB\n",
      "        CCCCC\n",
      "       DDDDDDD\n",
      "      EEEEEEEEE\n",
      "     FFFFFFFFFFF\n",
      "    GGGGGGGGGGGGG\n",
      "   HHHHHHHHHHHHHHH\n",
      "  IIIIIIIIIIIIIIIII\n"
     ]
    }
   ],
   "source": [
    "for i in range(0,n):\n",
    "    print(\" \"*(n-i),chr(64+i)*(i*2-1), end=\"\")\n",
    "    print()\n",
    "    "
   ]
  },
  {
   "cell_type": "code",
   "execution_count": 44,
   "id": "a7430288",
   "metadata": {},
   "outputs": [
    {
     "name": "stdout",
     "output_type": "stream",
     "text": [
      "           \n",
      "          A\n",
      "         CCC\n",
      "        EEEEE\n",
      "       GGGGGGG\n",
      "      IIIIIIIII\n",
      "     KKKKKKKKKKK\n",
      "    MMMMMMMMMMMMM\n",
      "   OOOOOOOOOOOOOOO\n",
      "  QQQQQQQQQQQQQQQQQ\n"
     ]
    }
   ],
   "source": [
    "for i in range(0,n):\n",
    "    p=chr(64+i*2-1)\n",
    "    print(\" \"*(n-i), p*(i*2-1), end=\"\")\n",
    "    print()\n",
    "    "
   ]
  },
  {
   "cell_type": "code",
   "execution_count": 45,
   "id": "ed1e3dfd",
   "metadata": {},
   "outputs": [
    {
     "name": "stdout",
     "output_type": "stream",
     "text": [
      "         1\n",
      "        212\n",
      "       32123\n",
      "      4321234\n",
      "     543212345\n",
      "    65432123456\n",
      "   7654321234567\n",
      "  876543212345678\n",
      " 98765432123456789\n",
      "109876543212345678910\n"
     ]
    }
   ],
   "source": [
    "for i in range(1,n+1):\n",
    "    print(\" \"*(n-i), end='')\n",
    "    for j in range(i, 1,-1):\n",
    "        print(j, end='')\n",
    "    for k in range(1,i+1):\n",
    "        print(k,end='')\n",
    "    print()"
   ]
  },
  {
   "cell_type": "code",
   "execution_count": 46,
   "id": "14092b5b",
   "metadata": {},
   "outputs": [
    {
     "name": "stdout",
     "output_type": "stream",
     "text": [
      "         1\n",
      "        121\n",
      "       12321\n",
      "      1234321\n",
      "     123454321\n",
      "    12345654321\n",
      "   1234567654321\n",
      "  123456787654321\n",
      " 12345678987654321\n"
     ]
    }
   ],
   "source": [
    "for i in range(1,n):\n",
    "    print(\" \"*(n-i), end='')\n",
    "    for j in range(1, i+1):\n",
    "        print(j, end='')\n",
    "    for k in range(i-1,0,-1):\n",
    "        print(k, end='')\n",
    "    print()"
   ]
  },
  {
   "cell_type": "code",
   "execution_count": 47,
   "id": "34f020f6",
   "metadata": {},
   "outputs": [
    {
     "name": "stdout",
     "output_type": "stream",
     "text": [
      "          \n",
      "         A\n",
      "        ABA\n",
      "       ABCBA\n",
      "      ABCDCBA\n",
      "     ABCDEDCBA\n",
      "    ABCDEFEDCBA\n",
      "   ABCDEFGFEDCBA\n",
      "  ABCDEFGHGFEDCBA\n",
      " ABCDEFGHIHGFEDCBA\n"
     ]
    }
   ],
   "source": [
    "for i in range(0,n):\n",
    "    print(\" \"*(n-i), end=\"\")\n",
    "    for j in range(1,i):\n",
    "        print(chr(64+j), end='')\n",
    "    for k in range(i,0,-1):\n",
    "        print(chr(64+k), end='')\n",
    "    print()"
   ]
  },
  {
   "cell_type": "code",
   "execution_count": 48,
   "id": "51fcd6cb",
   "metadata": {},
   "outputs": [
    {
     "name": "stdout",
     "output_type": "stream",
     "text": [
      "          10987654321\n",
      "         1098765432\n",
      "        109876543\n",
      "       10987654\n",
      "      1098765\n",
      "     109876\n",
      "    10987\n",
      "   1098\n",
      "  109\n",
      " 10\n"
     ]
    }
   ],
   "source": [
    "for i in range(0,n):\n",
    "    print(\" \"*(n-i), end=\"\")\n",
    "    for j in range(n,i, -1):\n",
    "        print(j, end='')\n",
    "    print()\n",
    "#    for k in range(w)"
   ]
  },
  {
   "cell_type": "code",
   "execution_count": 49,
   "id": "688ab8c9",
   "metadata": {},
   "outputs": [
    {
     "name": "stdout",
     "output_type": "stream",
     "text": [
      "          10 \n",
      "         10 9 \n",
      "        10 9 8 \n",
      "       10 9 8 7 \n",
      "      10 9 8 7 6 \n",
      "     10 9 8 7 6 5 \n",
      "    10 9 8 7 6 5 4 \n",
      "   10 9 8 7 6 5 4 3 \n",
      "  10 9 8 7 6 5 4 3 2 \n",
      " 10 9 8 7 6 5 4 3 2 1 \n"
     ]
    }
   ],
   "source": [
    "for i in range(0, n):\n",
    "    print(\" \"*(n-i), end=\"\")\n",
    "    for j in range(n,n-1-i,-1):\n",
    "        print(j, end=' ')\n",
    "    print()"
   ]
  },
  {
   "cell_type": "code",
   "execution_count": 50,
   "id": "17136107",
   "metadata": {},
   "outputs": [
    {
     "name": "stdout",
     "output_type": "stream",
     "text": [
      " * * * * * * * * * * \n",
      "  * * * * * * * * * \n",
      "   * * * * * * * * \n",
      "    * * * * * * * \n",
      "     * * * * * * \n",
      "      * * * * * \n",
      "       * * * * \n",
      "        * * * \n",
      "         * * \n",
      "          * \n"
     ]
    }
   ],
   "source": [
    "for i in range(0,n):\n",
    "    print(\" \"*i, \"* \"*(n-i), end= \"\")\n",
    "    print()"
   ]
  },
  {
   "cell_type": "code",
   "execution_count": 51,
   "id": "ab171979",
   "metadata": {},
   "outputs": [
    {
     "name": "stdout",
     "output_type": "stream",
     "text": [
      "  555555555 \n",
      "   4444444 \n",
      "    33333 \n",
      "     222 \n",
      "      1 \n",
      "        \n"
     ]
    }
   ],
   "source": [
    "q=6\n",
    "for i in range(1,q+1):\n",
    "    q = q-1\n",
    "    print(\" \"*i,str(q)*(q*2-1),end=\" \")\n",
    "    print()"
   ]
  },
  {
   "cell_type": "code",
   "execution_count": 52,
   "id": "852084d8",
   "metadata": {},
   "outputs": [
    {
     "name": "stdout",
     "output_type": "stream",
     "text": [
      " 531\n",
      "  531\n",
      "   531\n",
      "    531\n"
     ]
    }
   ],
   "source": [
    "q=5\n",
    "for i in range(1,q):\n",
    "    print(\" \"*i,end=\"\")\n",
    "    for j in range(q,0,-2):\n",
    "        print(j, end=\"\")\n",
    "    print()"
   ]
  },
  {
   "cell_type": "code",
   "execution_count": 75,
   "id": "8a4ad145",
   "metadata": {},
   "outputs": [
    {
     "name": "stdout",
     "output_type": "stream",
     "text": [
      "  121212121212121212121212\n",
      "   121212121212121212121212\n",
      "    1111111111111111111111\n",
      "     999999999\n",
      "      666666\n",
      "       22\n",
      "        \n",
      "         \n",
      "          \n",
      "           \n"
     ]
    }
   ],
   "source": [
    "q= 11\n",
    "for i in range(1,q):\n",
    "    q=q+2-i\n",
    "    print(\" \"*i,str(q)*q,end='')\n",
    "    print()"
   ]
  },
  {
   "cell_type": "code",
   "execution_count": 54,
   "id": "f8e25f95",
   "metadata": {},
   "outputs": [
    {
     "name": "stdout",
     "output_type": "stream",
     "text": [
      "97531\n",
      " 97531\n",
      "  97531\n",
      "   97531\n",
      "    97531\n",
      "     97531\n",
      "      97531\n",
      "       97531\n",
      "        97531\n",
      "         97531\n"
     ]
    }
   ],
   "source": [
    "q=10\n",
    "for i in range(0,q):\n",
    "    print(\" \"*i, end='')\n",
    "    for j in range(q,0,-2):\n",
    "        print(j-1, end=\"\")\n",
    "    print()"
   ]
  },
  {
   "cell_type": "code",
   "execution_count": 73,
   "id": "553da0aa",
   "metadata": {},
   "outputs": [
    {
     "name": "stdout",
     "output_type": "stream",
     "text": [
      " 1234567897531\n",
      "  1234567897531\n",
      "   1234567897531\n",
      "    1234567897531\n",
      "     1234567897531\n",
      "      1234567897531\n",
      "       1234567897531\n",
      "        1234567897531\n",
      "         1234567897531\n"
     ]
    }
   ],
   "source": [
    "n=10\n",
    "for i in range(1,n):\n",
    "    print(\" \"*i,end=\"\")\n",
    "    for j in range(1,n):\n",
    "        print(j, end=\"\")\n",
    "    for k in range(j,1,-2):\n",
    "        print(k-2, end='')\n",
    "    print()"
   ]
  },
  {
   "cell_type": "code",
   "execution_count": 5,
   "id": "e2937a1b",
   "metadata": {},
   "outputs": [
    {
     "name": "stdout",
     "output_type": "stream",
     "text": [
      " 999999999\n",
      "  88888888\n",
      "   7777777\n",
      "    666666\n",
      "     55555\n",
      "      4444\n",
      "       333\n",
      "        22\n",
      "         1\n",
      "          \n"
     ]
    }
   ],
   "source": [
    "n=10\n",
    "for i in range(0,n):\n",
    "    n=n+2-3\n",
    "    print(\" \"*i, str(n)*n, end=\"\")\n",
    "    print()"
   ]
  },
  {
   "cell_type": "code",
   "execution_count": 21,
   "id": "55a7741f",
   "metadata": {},
   "outputs": [
    {
     "name": "stdout",
     "output_type": "stream",
     "text": [
      "12345678910\n",
      "123456789\n",
      "12345678\n",
      "1234567\n",
      "123456\n",
      "12345\n",
      "1234\n",
      "123\n",
      "12\n",
      "1\n"
     ]
    }
   ],
   "source": [
    "n=10\n",
    "for i in range(1,n+1):\n",
    "    for j in range(1, n+2-i):\n",
    "        print(j, end='')\n",
    "    print()"
   ]
  },
  {
   "cell_type": "code",
   "execution_count": 26,
   "id": "1adb66f5",
   "metadata": {},
   "outputs": [
    {
     "name": "stdout",
     "output_type": "stream",
     "text": [
      "           \n",
      "          1\n",
      "         222\n",
      "        33333\n",
      "       4444444\n",
      "      555555555\n",
      "     66666666666\n",
      "    7777777777777\n",
      "   888888888888888\n",
      "  99999999999999999\n"
     ]
    }
   ],
   "source": [
    "for i in range(0,n):\n",
    "    print(\" \"*(n-i), str(i)*(i*2-1),end='')\n",
    "    print()"
   ]
  },
  {
   "cell_type": "code",
   "execution_count": 49,
   "id": "5fd9ba7f",
   "metadata": {},
   "outputs": [
    {
     "name": "stdout",
     "output_type": "stream",
     "text": [
      "           \n",
      "          1\n",
      "         333\n",
      "        55555\n",
      "       7777777\n",
      "      999999999\n"
     ]
    }
   ],
   "source": [
    "n=10\n",
    "m=int(n/2)\n",
    "for i in range(0,m+1):\n",
    "    print(\" \"*(n-i),str(i*2-1)*(i*2-1), end=\"\" )\n",
    "    print()"
   ]
  },
  {
   "cell_type": "code",
   "execution_count": 64,
   "id": "9715aee9",
   "metadata": {},
   "outputs": [
    {
     "name": "stdout",
     "output_type": "stream",
     "text": [
      "     \n",
      "    1\n",
      "   321\n",
      "  54321\n",
      " 7654321\n",
      "987654321\n"
     ]
    }
   ],
   "source": [
    "n=10\n",
    "n =int(n/2)\n",
    "for  i in range(0, n+1):\n",
    "    print(\" \"*(n-i), end=\"\")\n",
    "    for j in range(2*i-1, 0, -1):\n",
    "        print(j, end='')\n",
    "    print()"
   ]
  },
  {
   "cell_type": "code",
   "execution_count": 67,
   "id": "15f715b5",
   "metadata": {},
   "outputs": [
    {
     "name": "stdout",
     "output_type": "stream",
     "text": [
      "     0\n",
      "    101\n",
      "   21012\n",
      "  3210123\n",
      " 432101234\n"
     ]
    }
   ],
   "source": [
    "for i in range(0, n):\n",
    "    print(\" \"*(n-i), end=\"\")\n",
    "    for j in range(i, 0,-1):\n",
    "        print(j,end=\"\")\n",
    "    for k in range(0,i+1):\n",
    "        print(k, end=\"\")\n",
    "    print()"
   ]
  },
  {
   "cell_type": "code",
   "execution_count": 79,
   "id": "ab4e33c0",
   "metadata": {},
   "outputs": [
    {
     "name": "stdout",
     "output_type": "stream",
     "text": [
      " * * * * * \n",
      "  * * * * \n",
      "   * * * \n",
      "    * * \n",
      "     * \n"
     ]
    }
   ],
   "source": [
    "n=5\n",
    "for i in range(0,n):\n",
    "    print(\" \"*i,\"* \"*(n-i), end= \"\")\n",
    "    print()"
   ]
  },
  {
   "cell_type": "code",
   "execution_count": 91,
   "id": "a43d431f",
   "metadata": {},
   "outputs": [
    {
     "name": "stdout",
     "output_type": "stream",
     "text": [
      "53101234\n",
      " 53101234\n",
      "  53101234\n",
      "   53101234\n",
      "    53101234\n"
     ]
    }
   ],
   "source": [
    "for i in range(0,n):\n",
    "    print(\" \"*(i), end=\"\")\n",
    "    for j in range(n,0,-2):\n",
    "        print(j, end=\"\")\n",
    "    for k in range(0,n):\n",
    "        print(k,end=\"\")\n",
    "    print()"
   ]
  },
  {
   "cell_type": "code",
   "execution_count": 102,
   "id": "a098b832",
   "metadata": {},
   "outputs": [
    {
     "name": "stdout",
     "output_type": "stream",
     "text": [
      " 999999999\n",
      "  7777777\n",
      "   55555\n",
      "    333\n",
      "     1\n",
      "      \n",
      "       \n",
      "        \n",
      "         \n",
      "          \n"
     ]
    }
   ],
   "source": [
    "for i in range(0,n):\n",
    "    print(\" \"*i, str(n-i*2-1)*(n-i*2-1), end=\"\")\n",
    "    print()"
   ]
  },
  {
   "cell_type": "code",
   "execution_count": 133,
   "id": "27916d34",
   "metadata": {},
   "outputs": [
    {
     "name": "stdout",
     "output_type": "stream",
     "text": [
      "12345678\n",
      " 1234567\n",
      "  123456\n",
      "   12345\n",
      "    1234\n",
      "     123\n",
      "      12\n",
      "       1\n",
      "        \n",
      "         \n",
      "          \n"
     ]
    }
   ],
   "source": [
    "n=10\n",
    "for i in range(1,n+2):\n",
    "    print(\" \"*(i-1), end=\"\")\n",
    "    for j in range(1,n-i):\n",
    "        print(j, end=\"\")\n",
    "#     for k in range(,n):\n",
    "#         print(k, end=\"\")\n",
    "    print()"
   ]
  },
  {
   "cell_type": "code",
   "execution_count": 146,
   "id": "a8485e7d",
   "metadata": {},
   "outputs": [
    {
     "name": "stdout",
     "output_type": "stream",
     "text": [
      "      \n",
      "*     \n",
      "**    \n",
      "***   \n",
      "****  \n",
      "*****     \n",
      "****     \n",
      "***     \n",
      "**     \n",
      "*     \n"
     ]
    }
   ],
   "source": [
    "n=5\n",
    "for i in range(0,n):\n",
    "    print(\"*\"*i,\" \"*(n-i), end=\"\")\n",
    "    print()\n",
    "for j in range(n,0,-1):\n",
    "    print(\"*\"*j,\" \"*i, end=\"\" )\n",
    "    print()\n"
   ]
  },
  {
   "cell_type": "code",
   "execution_count": 174,
   "id": "7a39f223",
   "metadata": {},
   "outputs": [
    {
     "name": "stdout",
     "output_type": "stream",
     "text": [
      "      \n",
      "     * \n",
      "    * * \n",
      "   * * * \n",
      "  * * * * \n",
      " * * * * * \n",
      "  * * * * * * * * *\n",
      "  * * * * * * *\n",
      "  * * * * *\n",
      "  * * *\n",
      "  *\n"
     ]
    }
   ],
   "source": [
    "for i in range(0,n+1):\n",
    "    print(\" \"*(n-i), \"* \"*i, end=\"\")\n",
    "    print()\n",
    "for j in range(n,0,-1):\n",
    "    print( \" \"*(n-i),\" *\"*(j*2-1), end=\"\")\n",
    "    print()"
   ]
  },
  {
   "cell_type": "code",
   "execution_count": 211,
   "id": "e09e2518",
   "metadata": {},
   "outputs": [
    {
     "name": "stdout",
     "output_type": "stream",
     "text": [
      "     * \n",
      "    * * \n",
      "   * * * \n",
      "  * * * * \n",
      " * * * * * \n",
      "* * * * * * \n",
      " * * * * * \n",
      "  * * * * \n",
      "   * * * \n",
      "    * * \n",
      "     * \n",
      "      \n"
     ]
    }
   ],
   "source": [
    "n=5\n",
    "for i in range(0,n+1):\n",
    "    print(\" \"*(n-i), end=\"\")\n",
    "    for j in range(0,i+1):\n",
    "        print(\"* \", end=\"\")\n",
    "    print()\n",
    "for k in range(0,n+1):\n",
    "    print(\" \"*(k+1), end=\"\")\n",
    "    for l in range(0,n-k):\n",
    "        print(\"* \",end=\"\")\n",
    "    print()"
   ]
  },
  {
   "cell_type": "code",
   "execution_count": 237,
   "id": "8f7c032a",
   "metadata": {},
   "outputs": [
    {
     "name": "stdout",
     "output_type": "stream",
     "text": [
      "     * \n",
      "    * * \n",
      "   * * * \n",
      "  * * * * \n",
      " * * * * * \n",
      "* * * * * * \n",
      " * * * * * \n",
      "  * * * * \n",
      "   * * * \n",
      "    * * \n",
      "     * \n",
      "      \n"
     ]
    }
   ],
   "source": [
    "for i in range(0,n+1):\n",
    "    print(\" \"*(n-i),end=\"\")\n",
    "    for j in range(0,i+1):\n",
    "        print(\"* \", end=\"\")\n",
    "    print()\n",
    "for k in range(0,n+1):\n",
    "    print(\" \"*(k+1), end=\"\")\n",
    "    for l in range(0,n-k):\n",
    "        print(\"* \",end=\"\")\n",
    "    print()"
   ]
  },
  {
   "cell_type": "code",
   "execution_count": 49,
   "id": "414b0896",
   "metadata": {},
   "outputs": [
    {
     "name": "stdout",
     "output_type": "stream",
     "text": [
      "       \n",
      "      * \n",
      "     * * \n",
      "    * * * \n",
      "   * * * * \n",
      "  * * * * * \n",
      " * * * * * * \n",
      "  * * * * * \n",
      "   * * * * \n",
      "    * * * \n",
      "     * * \n",
      "      * \n",
      "       \n"
     ]
    }
   ],
   "source": [
    "n =6\n",
    "for i in range(0,n):\n",
    "    print(\" \"*(n-i), \"* \"*i, end='')\n",
    "    print()\n",
    "for j in range (0,n+1):\n",
    "    print(\" \"*j, \"* \"*(n-j), end='')\n",
    "    print()"
   ]
  },
  {
   "cell_type": "code",
   "execution_count": 59,
   "id": "015d318b",
   "metadata": {},
   "outputs": [
    {
     "name": "stdout",
     "output_type": "stream",
     "text": [
      "     1\n",
      "    12\n",
      "   123\n",
      "  1234\n",
      " 12345\n",
      "  1234\n",
      "   123\n",
      "    12\n",
      "     1\n",
      "      \n"
     ]
    }
   ],
   "source": [
    "for i in range(1,n+1):\n",
    "    print(\" \"*(n-i), end=\" \")\n",
    "    for j in range(1,i+1):\n",
    "        print(j, end=\"\")\n",
    "    print()\n",
    "for k in range(1, n+1):\n",
    "    print(\" \"*(k), end=\" \")\n",
    "    for l in range(1,n+1-k):\n",
    "        print(l, end=\"\")\n",
    "    print()"
   ]
  },
  {
   "cell_type": "code",
   "execution_count": 123,
   "id": "4e353cec",
   "metadata": {},
   "outputs": [
    {
     "name": "stdout",
     "output_type": "stream",
     "text": [
      "     5\n",
      "    54\n",
      "   543\n",
      "  5432\n",
      " 54321\n",
      "543210\n",
      " 5 4 3 2 1 \n",
      "  5 4 3 2 \n",
      "   5 4 3 \n",
      "    5 4 \n",
      "     5 \n"
     ]
    }
   ],
   "source": [
    "for i in range(0,n+1):\n",
    "    print(\" \"*(n-i),end='')\n",
    "    for j in range(0,i+1):\n",
    "        print(n-j, end=\"\")\n",
    "    print()\n",
    "for k in range(0,n):\n",
    "    print(\" \"*(k),end=\" \")\n",
    "    for l in range(0,n-k):\n",
    "        print(n-l, end=\" \")\n",
    "    print()"
   ]
  },
  {
   "cell_type": "code",
   "execution_count": 137,
   "id": "799f1113",
   "metadata": {},
   "outputs": [
    {
     "name": "stdout",
     "output_type": "stream",
     "text": [
      "     5\n",
      "    45\n",
      "   345\n",
      "  2345\n",
      " 12345\n",
      "01234\n",
      " 0123\n",
      "  012\n",
      "   01\n",
      "    0\n"
     ]
    }
   ],
   "source": [
    "for i in range(0,n):\n",
    "    print(\" \"*(n-i),end='')\n",
    "    for j in range(0,i+1):\n",
    "        print(n+j-i,end=\"\")\n",
    "    print()\n",
    "for k in range(0,n):\n",
    "    print(\" \"*(k),end='')\n",
    "    for l in range(0,n-k):\n",
    "        print(l,end='')\n",
    "    print()"
   ]
  },
  {
   "cell_type": "code",
   "execution_count": 10,
   "id": "ea0ae225",
   "metadata": {},
   "outputs": [
    {
     "name": "stdout",
     "output_type": "stream",
     "text": [
      "           \n",
      "          *\n",
      "         **\n",
      "        ***\n",
      "       ****\n",
      "      *****\n",
      "     ******\n",
      "    *******\n",
      "   ********\n",
      "  *********\n",
      " **********\n",
      "           **********\n",
      "           *********\n",
      "           ********\n",
      "           *******\n",
      "           ******\n",
      "           *****\n",
      "           ****\n",
      "           ***\n",
      "           **\n",
      "           *\n"
     ]
    }
   ],
   "source": [
    "n=10\n",
    "m=20\n",
    "for i in range(0,n+1):\n",
    "    print(\" \"*(n-i),\"*\"*i,end='')\n",
    "    print()\n",
    "for j in range(0,n):\n",
    "    print(\" \"*(n),\"*\"*(n-j),  end='')\n",
    "    print()"
   ]
  },
  {
   "cell_type": "code",
   "execution_count": 38,
   "id": "788b1acd",
   "metadata": {},
   "outputs": [
    {
     "name": "stdout",
     "output_type": "stream",
     "text": [
      "Red_light\n",
      "120\n",
      "119\n",
      "118\n",
      "117\n",
      "116\n",
      "115\n",
      "114\n",
      "113\n",
      "112\n",
      "111\n",
      "110\n",
      "109\n",
      "108\n",
      "107\n",
      "106\n",
      "105\n",
      "104\n",
      "103\n",
      "102\n",
      "101\n",
      "100\n",
      "99\n",
      "98\n",
      "97\n",
      "96\n",
      "95\n",
      "94\n",
      "93\n",
      "92\n",
      "91\n",
      "90\n",
      "89\n",
      "88\n",
      "87\n",
      "86\n",
      "85\n",
      "84\n",
      "83\n",
      "82\n",
      "81\n",
      "80\n",
      "79\n",
      "78\n",
      "77\n",
      "76\n",
      "75\n",
      "74\n",
      "73\n",
      "72\n",
      "71\n",
      "70\n",
      "69\n",
      "68\n",
      "67\n",
      "66\n",
      "65\n",
      "64\n",
      "63\n",
      "62\n",
      "61\n",
      "60\n",
      "59\n",
      "58\n",
      "57\n",
      "56\n",
      "55\n",
      "54\n",
      "53\n",
      "52\n",
      "51\n",
      "50\n",
      "49\n",
      "48\n",
      "47\n",
      "46\n",
      "45\n",
      "44\n",
      "43\n",
      "42\n",
      "41\n",
      "40\n",
      "39\n",
      "38\n",
      "37\n",
      "36\n",
      "35\n",
      "34\n",
      "33\n",
      "32\n",
      "31\n",
      "30\n",
      "29\n",
      "28\n",
      "27\n",
      "26\n",
      "25\n",
      "24\n",
      "23\n",
      "22\n",
      "21\n",
      "20\n",
      "19\n",
      "18\n",
      "17\n",
      "16\n",
      "15\n",
      "14\n",
      "13\n",
      "12\n",
      "11\n",
      "10\n",
      "9\n",
      "8\n",
      "7\n",
      "6\n",
      "5\n",
      "4\n",
      "3\n",
      "2\n",
      "1\n",
      "0\n",
      "Green_Light\n",
      "30\n",
      "29\n",
      "28\n",
      "27\n",
      "26\n",
      "25\n",
      "24\n",
      "23\n",
      "22\n",
      "21\n",
      "20\n",
      "19\n",
      "18\n",
      "17\n",
      "16\n",
      "15\n",
      "14\n",
      "13\n",
      "12\n",
      "11\n",
      "10\n",
      "9\n",
      "8\n",
      "7\n",
      "6\n",
      "5\n",
      "4\n",
      "3\n",
      "2\n",
      "1\n",
      "0\n",
      "yellow_light\n",
      "3\n",
      "2\n",
      "1\n",
      "0\n",
      "Red_light\n",
      "120\n"
     ]
    }
   ],
   "source": [
    "# traffic signal\n",
    "green_light =30\n",
    "red_light =120\n",
    "yellow_light =3\n",
    "a =120\n",
    "b = 60\n",
    "c = 90\n",
    "d = 120\n",
    "\n",
    "print(\"Red_light\")\n",
    "for i in range (0,a+1):\n",
    "    c =(a-i)\n",
    "    print(c)\n",
    "    if c ==0:\n",
    "        print(\"Green_Light\")\n",
    "        for j in range (0,green_light+1):\n",
    "            d=(green_light-j)\n",
    "            print(d)\n",
    "            if d==0:\n",
    "                print(\"yellow_light\")\n",
    "                for k in range (3,-1,-1):\n",
    "                    print(k)\n",
    "                    if k ==0:\n",
    "                        print(\"Red_light\")\n",
    "                        a=120\n",
    "                        print(a)"
   ]
  },
  {
   "cell_type": "code",
   "execution_count": 51,
   "id": "ac7e6470",
   "metadata": {},
   "outputs": [
    {
     "name": "stdout",
     "output_type": "stream",
     "text": [
      "     * \n",
      "    * * \n",
      "   * * * \n",
      "  * * * * \n",
      " * * * * * \n",
      " * * * * * \n",
      "  * * * * \n",
      "   * * * \n",
      "    * * \n",
      "     * \n",
      "      \n"
     ]
    }
   ],
   "source": [
    "n=5\n",
    "for i in range(0,n):\n",
    "    print(\" \"*(n-i), end=\"\")\n",
    "    for j in range(0,i+1):\n",
    "        print(\"*\", end=\" \")\n",
    "    print()\n",
    "for k in range(0,n+1):\n",
    "    print(\" \"*k, \"* \"*(n-k), end=\"\")\n",
    "    print()"
   ]
  },
  {
   "cell_type": "code",
   "execution_count": 2,
   "id": "011aeabc",
   "metadata": {},
   "outputs": [
    {
     "name": "stdout",
     "output_type": "stream",
     "text": [
      "enter the number5\n",
      "number1\n",
      "number34\n",
      "number24\n",
      "number35\n",
      "number65\n",
      "[1, 34, 24, 35, 65]\n"
     ]
    }
   ],
   "source": [
    "a = int(input('enter the number'))\n",
    "b =[]\n",
    "for i in range (0,a):\n",
    "    c= int(input('number'))\n",
    "    b.append(c)\n",
    "print(b)"
   ]
  },
  {
   "cell_type": "markdown",
   "id": "82a18105",
   "metadata": {},
   "source": []
  },
  {
   "cell_type": "code",
   "execution_count": null,
   "id": "d9dba25c",
   "metadata": {},
   "outputs": [],
   "source": []
  },
  {
   "cell_type": "code",
   "execution_count": null,
   "id": "9c7b0ee1",
   "metadata": {},
   "outputs": [],
   "source": []
  },
  {
   "cell_type": "code",
   "execution_count": null,
   "id": "921520cb",
   "metadata": {},
   "outputs": [],
   "source": []
  }
 ],
 "metadata": {
  "kernelspec": {
   "display_name": "Python 3 (ipykernel)",
   "language": "python",
   "name": "python3"
  },
  "language_info": {
   "codemirror_mode": {
    "name": "ipython",
    "version": 3
   },
   "file_extension": ".py",
   "mimetype": "text/x-python",
   "name": "python",
   "nbconvert_exporter": "python",
   "pygments_lexer": "ipython3",
   "version": "3.10.8"
  }
 },
 "nbformat": 4,
 "nbformat_minor": 5
}
