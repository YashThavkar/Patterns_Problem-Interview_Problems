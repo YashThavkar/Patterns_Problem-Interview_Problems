{
 "cells": [
  {
   "cell_type": "code",
   "execution_count": 1,
   "id": "05b1eb90",
   "metadata": {},
   "outputs": [
    {
     "name": "stdout",
     "output_type": "stream",
     "text": [
      "0\n",
      "1\n",
      "1\n",
      "2\n",
      "3\n",
      "5\n",
      "8\n",
      "13\n",
      "21\n",
      "34\n",
      "55\n"
     ]
    }
   ],
   "source": [
    "#fibonacci series\n",
    "\n",
    "def fibbo(n):\n",
    "    a=0\n",
    "    b=1\n",
    "    print(a)\n",
    "    for i in range(n):\n",
    "        c=a+b\n",
    "        a=b\n",
    "        b=c\n",
    "        print(a)\n",
    "        \n",
    "fibbo(10)"
   ]
  },
  {
   "cell_type": "code",
   "execution_count": 2,
   "id": "272540a3",
   "metadata": {},
   "outputs": [
    {
     "name": "stdout",
     "output_type": "stream",
     "text": [
      "1\n",
      "2\n",
      "Fizz\n",
      "4\n",
      "Buzz\n",
      "Fizz\n",
      "7\n",
      "8\n",
      "Fizz\n",
      "Buzz\n",
      "11\n",
      "Fizz\n",
      "13\n",
      "14\n",
      "FizzBuzz\n",
      "16\n",
      "17\n",
      "Fizz\n"
     ]
    }
   ],
   "source": [
    "def algo(n):\n",
    "    for i in range(1, n+1):\n",
    "\n",
    "        if i%15==0:\n",
    "            print(\"FizzBuzz\")\n",
    "         \n",
    "        elif i%5==0:\n",
    "            print( \"Buzz\")\n",
    "\n",
    "        elif i%3==0:\n",
    "            print(\"Fizz\")\n",
    "\n",
    "        else:\n",
    "            print(i)\n",
    "        \n",
    "algo(18)"
   ]
  },
  {
   "cell_type": "markdown",
   "id": "e84a3273",
   "metadata": {},
   "source": [
    "'''Task\n",
    "Given an integer, , perform the following conditional actions:\n",
    "\n",
    "If  is odd, print Weird\n",
    "If  is even and in the inclusive range of  to , print Not Weird\n",
    "If  is even and in the inclusive range of  to , print Weird\n",
    "If  is even and greater than , print Not Weird'''"
   ]
  },
  {
   "cell_type": "code",
   "execution_count": 3,
   "id": "3419a30a",
   "metadata": {},
   "outputs": [
    {
     "name": "stdout",
     "output_type": "stream",
     "text": [
      "Not Weird\n"
     ]
    }
   ],
   "source": [
    "def num(n):\n",
    "    if (2<=n<=5)%2==0:\n",
    "        print('Not Weird')\n",
    "        \n",
    "    elif (6<=n<=20)%2==0:\n",
    "        print(\"Weird\")\n",
    "        \n",
    "    elif (n>20)%2==0:\n",
    "        print('Not Weird')\n",
    "        \n",
    "num(24)"
   ]
  },
  {
   "cell_type": "markdown",
   "id": "575c0410",
   "metadata": {},
   "source": [
    "'''Task\n",
    "\n",
    "The provided code stub reads two integers from STDIN,  and . Add code to print three lines where:\n",
    "\n",
    "The first line contains the sum of the two numbers.\n",
    "The second line contains the difference of the two numbers (first - second).\n",
    "The third line contains the product of the two numbers.'''"
   ]
  },
  {
   "cell_type": "code",
   "execution_count": 4,
   "id": "fda7cac9",
   "metadata": {},
   "outputs": [
    {
     "name": "stdout",
     "output_type": "stream",
     "text": [
      "8\n",
      "-2\n",
      "15\n"
     ]
    }
   ],
   "source": [
    "def num(a,b):\n",
    "\n",
    "    print(a+b)\n",
    "    print(a-b)\n",
    "    print(a*b)\n",
    "    \n",
    "num(3,5)"
   ]
  },
  {
   "cell_type": "markdown",
   "id": "2f1eda1d",
   "metadata": {},
   "source": [
    "'''Task\n",
    "\n",
    "The provided code stub reads two integers,  and , from STDIN.\n",
    "\n",
    "Add logic to print two lines. The first line should contain the result of integer division,  // . The second line should contain the result of float division,  / .\n",
    "\n",
    "No rounding or formatting is necessary.'''"
   ]
  },
  {
   "cell_type": "markdown",
   "id": "205e4dcb",
   "metadata": {},
   "source": [
    "'''Task\n",
    "\n",
    "The provided code stub reads and integer, , from STDIN. For all non-negative integers , print .\n",
    "\n",
    "Example\n",
    "\n",
    "The list of non-negative integers that are less than  is . Print the square of each number on a separate line.'''"
   ]
  },
  {
   "cell_type": "code",
   "execution_count": 5,
   "id": "36433355",
   "metadata": {},
   "outputs": [
    {
     "name": "stdout",
     "output_type": "stream",
     "text": [
      "0\n",
      "1\n",
      "4\n",
      "9\n",
      "16\n"
     ]
    }
   ],
   "source": [
    "def num(n):\n",
    "    for i in range(0,n):\n",
    "        print(i**2)\n",
    "        \n",
    "num(5)"
   ]
  },
  {
   "cell_type": "markdown",
   "id": "60863d83",
   "metadata": {},
   "source": [
    "'''Task\n",
    "\n",
    "Given a year, determine whether it is a leap year. If it is a leap year, return the Boolean True, otherwise return False.\n",
    "\n",
    "Note that the code stub provided reads from STDIN and passes arguments to the is_leap function. It is only necessary to complete the is_leap function.'''"
   ]
  },
  {
   "cell_type": "code",
   "execution_count": 6,
   "id": "6f931660",
   "metadata": {},
   "outputs": [
    {
     "data": {
      "text/plain": [
       "False"
      ]
     },
     "execution_count": 6,
     "metadata": {},
     "output_type": "execute_result"
    }
   ],
   "source": [
    "def is_leap(year):\n",
    "    \n",
    "    # Write your logic here\n",
    "    if year%4==0:\n",
    "        return True\n",
    "    else :\n",
    "        return False\n",
    "\n",
    "is_leap(1990)"
   ]
  },
  {
   "cell_type": "code",
   "execution_count": 7,
   "id": "eded040c",
   "metadata": {},
   "outputs": [
    {
     "name": "stdout",
     "output_type": "stream",
     "text": [
      "123"
     ]
    }
   ],
   "source": [
    "#the output should be in string format\n",
    "def num(n):\n",
    "    for i in range(1,n+1):\n",
    "        print(i, end='')\n",
    "        \n",
    "num(3)"
   ]
  },
  {
   "cell_type": "code",
   "execution_count": 8,
   "id": "5b4b4647",
   "metadata": {},
   "outputs": [],
   "source": [
    "# Result =[]\n",
    "# scorelist = []\n",
    "\n",
    "# if __name__ == '__main__':\n",
    "#     for _ in range(int(input())):\n",
    "#         name = input()\n",
    "#         score = float(input())\n",
    "#         Result+=[[name,score]]\n",
    "#         scorelist+=[score]\n",
    "#     b=sorted(list(set(scorelist)))[1] \n",
    "\n",
    "#     for a,c in sorted(Result):\n",
    "#         if c==b:\n",
    "#             print(a)\n",
    "            "
   ]
  },
  {
   "cell_type": "markdown",
   "id": "e0c56850",
   "metadata": {},
   "source": [
    "\n",
    "The provided code stub reads two integers from STDIN,  and . Add code to print three lines where:\n",
    "\n",
    "The first line contains the sum of the two numbers.\n",
    "The second line contains the difference of the two numbers (first - second).\n",
    "The third line contains the product of the two numbers.'''"
   ]
  },
  {
   "cell_type": "code",
   "execution_count": 9,
   "id": "3620f294",
   "metadata": {},
   "outputs": [
    {
     "name": "stdout",
     "output_type": "stream",
     "text": [
      "5\n",
      "1\n",
      "6\n"
     ]
    }
   ],
   "source": [
    "def num(a,b):\n",
    "    print(a+b)\n",
    "    print(a-b)\n",
    "    print(a*b)\n",
    "    \n",
    "num(3,2)\n",
    "\n"
   ]
  },
  {
   "cell_type": "code",
   "execution_count": 10,
   "id": "8d35ca3c",
   "metadata": {},
   "outputs": [
    {
     "name": "stdout",
     "output_type": "stream",
     "text": [
      "[2, 4, 6, 8]\n"
     ]
    }
   ],
   "source": [
    "# Python program to demonstrate working\n",
    "# of map.\n",
    "\n",
    "# Return double of n\n",
    "def addition(n):\n",
    "\treturn n + n\n",
    "\n",
    "# We double all numbers using map()\n",
    "numbers = (1, 2, 3, 4)\n",
    "result = map(addition, numbers)\n",
    "print(list(result))\n"
   ]
  },
  {
   "cell_type": "code",
   "execution_count": 11,
   "id": "cd226dbc",
   "metadata": {},
   "outputs": [
    {
     "data": {
      "text/plain": [
       "'if __name__ == \\'__main__\\':\\n    n = int(input(\"Enter number of students:-\"))\\n    student_marks = {}\\n    for _ in range(n):\\n        name, *line = input().split()\\n        scores = list(map(float, line))\\n        student_marks[name] = scores\\n    query_name = input()\\noutput = list(student_marks[query_name])    \\nper = sum(output)/len(output);\\n\\nprint(\"%.2f\" % per); '"
      ]
     },
     "execution_count": 11,
     "metadata": {},
     "output_type": "execute_result"
    }
   ],
   "source": [
    "'''if __name__ == '__main__':\n",
    "    n = int(input(\"Enter number of students:-\"))\n",
    "    student_marks = {}\n",
    "    for _ in range(n):\n",
    "        name, *line = input().split()\n",
    "        scores = list(map(float, line))\n",
    "        student_marks[name] = scores\n",
    "    query_name = input()\n",
    "output = list(student_marks[query_name])    \n",
    "per = sum(output)/len(output);\n",
    "\n",
    "print(\"%.2f\" % per); '''"
   ]
  },
  {
   "cell_type": "markdown",
   "id": "2d91341e",
   "metadata": {},
   "source": [
    "a= {}\n",
    "n= int(input(\"enter the number of student\"))\n",
    "for _ in range(0,n):\n",
    "    name, *line = input().split()\n",
    "    scores = list(map(float, line))\n",
    "    student_marks[name] =scores\n",
    "    \n",
    "query_name = input()\n",
    "\n",
    "\n",
    "    \n",
    "   \n",
    "        \n"
   ]
  },
  {
   "cell_type": "code",
   "execution_count": 12,
   "id": "ff231766",
   "metadata": {},
   "outputs": [
    {
     "name": "stdout",
     "output_type": "stream",
     "text": [
      "59.67\n"
     ]
    }
   ],
   "source": [
    "a=[]\n",
    "def per(x, y , z):\n",
    "    a.append(x)\n",
    "    a.append(y)\n",
    "    a.append(z)\n",
    "\n",
    "    b=sum(a)\n",
    "    c= (b/3)\n",
    "    print(\"%.2f\" % c)\n",
    "    \n",
    "per(78,45,56)"
   ]
  },
  {
   "cell_type": "code",
   "execution_count": null,
   "id": "4dec7bee",
   "metadata": {},
   "outputs": [],
   "source": [
    "if __name__ == '__main__':\n",
    "    n = int(input(\"Enter the number of students:- \"))\n",
    "    marks= {}\n",
    "    for _ in range(n):\n",
    "        name, *line = input().split()\n",
    "        score = list(map(float, line))\n",
    "        marks[name]=score\n",
    "    query_name=input()\n",
    "output = list(marks[query_name])\n",
    "per = sum(output)/len(output)\n",
    "print(\"%.2f\"% per)\n",
    "        "
   ]
  },
  {
   "cell_type": "markdown",
   "id": "910344fd",
   "metadata": {},
   "source": [
    "'''\n",
    "Task\n",
    "\n",
    "Apply your knowledge of the .add() operation to help your friend Rupal.\n",
    "\n",
    "Rupal has a huge collection of country stamps. She decided to count the total number of distinct country stamps in her collection. She asked for your help. You pick the stamps one by one from a stack of  country stamps.'''"
   ]
  },
  {
   "cell_type": "code",
   "execution_count": null,
   "id": "e52acf51",
   "metadata": {},
   "outputs": [],
   "source": [
    "if __name__ == '__main__':\n",
    "    name = set()\n",
    "    n = int(input(\"Enter the numbers of countries\"))\n",
    "    for _ in range(n):\n",
    "        p = input()\n",
    "        name.add(p)\n",
    "    print(len(name))"
   ]
  },
  {
   "cell_type": "markdown",
   "id": "afa4a55e",
   "metadata": {},
   "source": [
    "Task\n",
    "You have a non-empty set , and you have to execute  commands given in  lines.\n",
    "\n",
    "The commands will be pop, remove and discard."
   ]
  },
  {
   "cell_type": "code",
   "execution_count": null,
   "id": "0beba551",
   "metadata": {},
   "outputs": [],
   "source": []
  },
  {
   "cell_type": "code",
   "execution_count": null,
   "id": "359b671d",
   "metadata": {},
   "outputs": [],
   "source": [
    "# n = int(input())\n",
    "# s = set(map(int,input().split()))\n",
    "# num = int(input())\n",
    "# for i in range(num):\n",
    "#     ip = input().split()\n",
    "#     if ip[0]==\"remove\":\n",
    "#         s.remove(int(ip[1]))\n",
    "#     elif ip[0]==\"discard\":\n",
    "#         s.discard(int(ip[1]))\n",
    "#     else :\n",
    "#         s.pop()\n",
    "# print(sum(list(s)))"
   ]
  },
  {
   "cell_type": "code",
   "execution_count": 4,
   "id": "960ba9d0",
   "metadata": {},
   "outputs": [
    {
     "name": "stdout",
     "output_type": "stream",
     "text": [
      "123\n",
      "456\n",
      "{456}\n"
     ]
    }
   ],
   "source": [
    "n = int(input())\n",
    "s = set(map(int,input().split()))\n",
    "print(s)"
   ]
  },
  {
   "cell_type": "code",
   "execution_count": 1,
   "id": "13380ec1",
   "metadata": {},
   "outputs": [
    {
     "ename": "AttributeError",
     "evalue": "'int' object has no attribute 'split'",
     "output_type": "error",
     "traceback": [
      "\u001b[1;31m---------------------------------------------------------------------------\u001b[0m",
      "\u001b[1;31mAttributeError\u001b[0m                            Traceback (most recent call last)",
      "Cell \u001b[1;32mIn [1], line 5\u001b[0m\n\u001b[0;32m      2\u001b[0m     b \u001b[38;5;241m=\u001b[39m a\u001b[38;5;241m.\u001b[39msplit()\n\u001b[0;32m      3\u001b[0m     \u001b[38;5;28mprint\u001b[39m(\u001b[38;5;28msum\u001b[39m(b))\n\u001b[1;32m----> 5\u001b[0m \u001b[38;5;28;43msum\u001b[39;49m\u001b[43m(\u001b[49m\u001b[38;5;241;43m123\u001b[39;49m\u001b[43m)\u001b[49m\n",
      "Cell \u001b[1;32mIn [1], line 2\u001b[0m, in \u001b[0;36msum\u001b[1;34m(a)\u001b[0m\n\u001b[0;32m      1\u001b[0m \u001b[38;5;28;01mdef\u001b[39;00m \u001b[38;5;21msum\u001b[39m(a):\n\u001b[1;32m----> 2\u001b[0m     b \u001b[38;5;241m=\u001b[39m \u001b[43ma\u001b[49m\u001b[38;5;241;43m.\u001b[39;49m\u001b[43msplit\u001b[49m()\n\u001b[0;32m      3\u001b[0m     \u001b[38;5;28mprint\u001b[39m(\u001b[38;5;28msum\u001b[39m(b))\n",
      "\u001b[1;31mAttributeError\u001b[0m: 'int' object has no attribute 'split'"
     ]
    }
   ],
   "source": [
    "def sum(a):\n",
    "    b = a.split()\n",
    "    print(sum(b))\n",
    "\n",
    "sum(123)\n"
   ]
  },
  {
   "cell_type": "markdown",
   "id": "4dc10d06",
   "metadata": {},
   "source": [
    "The provided code stub reads two integers from STDIN,  and . Add code to print three lines where:\n",
    "\n",
    "The first line contains the sum of the two numbers.\n",
    "The second line contains the difference of the two numbers (first - second).\n",
    "The third line contains the product of the two numbers"
   ]
  },
  {
   "cell_type": "code",
   "execution_count": null,
   "id": "30e9b50e",
   "metadata": {},
   "outputs": [],
   "source": [
    "if __name__ == '__main__':\n",
    "    a = int(input())\n",
    "    b = int(input())\n",
    "    print(a+b)\n",
    "    print(a-b)\n",
    "    print(a*b)"
   ]
  },
  {
   "cell_type": "markdown",
   "id": "8881552d",
   "metadata": {},
   "source": [
    "Task\n",
    "Given an integer, , perform the following conditional actions:\n",
    "\n",
    "If  is odd, print Weird\n",
    "If  is even and in the inclusive range of  to , print Not Weird\n",
    "If  is even and in the inclusive range of  to , print Weird\n",
    "If  is even and greater than , print Not Weird\n"
   ]
  },
  {
   "cell_type": "code",
   "execution_count": null,
   "id": "0ef78628",
   "metadata": {},
   "outputs": [],
   "source": [
    "n = int(input())\n",
    "if n%2==1:\n",
    "    print(\"Weird\")\n",
    "        \n",
    "elif n%2==0:\n",
    "    if 1<n<6:\n",
    "        print(\"Not Weird\")\n",
    "            \n",
    "    elif 5<n<21:\n",
    "        print(\"Weird\")\n",
    "            \n",
    "    elif 20<n:\n",
    "        print(\"Not Weird\")"
   ]
  },
  {
   "cell_type": "markdown",
   "id": "faa946a3",
   "metadata": {},
   "source": [
    "Task\n",
    "\n",
    "Given a year, determine whether it is a leap year. If it is a leap year, return the Boolean True, otherwise return False."
   ]
  },
  {
   "cell_type": "code",
   "execution_count": 1,
   "id": "c3d37fde",
   "metadata": {},
   "outputs": [
    {
     "name": "stdout",
     "output_type": "stream",
     "text": [
      "2015\n",
      "False\n"
     ]
    }
   ],
   "source": [
    "def is_leap(year):\n",
    "    if year%400==0:\n",
    "        return True\n",
    "    \n",
    "    if year%100==0:\n",
    "        return False\n",
    "    if year%4==0:\n",
    "        return True\n",
    "    \n",
    "    return False\n",
    "year = int(input())\n",
    "print(is_leap(year))"
   ]
  },
  {
   "cell_type": "code",
   "execution_count": 1,
   "id": "10762703",
   "metadata": {},
   "outputs": [
    {
     "name": "stdout",
     "output_type": "stream",
     "text": [
      "123"
     ]
    }
   ],
   "source": [
    "def num(n):\n",
    "    for i in range(1,n+1):\n",
    "        print(i , end='')\n",
    "        \n",
    "num(3)\n"
   ]
  },
  {
   "cell_type": "markdown",
   "id": "c4ac916d",
   "metadata": {},
   "source": [
    "Let's learn about list comprehensions! You are given three integers  and  representing the dimensions of a cuboid along with an integer . Print a list of all possible coordinates given by  on a 3D grid where the sum of  is not equal to . Here, . Please use list comprehensions rather than multiple loops, as a learning exercise.\n",
    "\n",
    "Example\n",
    "\n",
    "All permutations of  are:\n",
    "\n",
    "Print an array of the elements that do not sum to .\n",
    "\n",
    "all combinations should be done reaching till n\n",
    "\n",
    "\n"
   ]
  },
  {
   "cell_type": "code",
   "execution_count": 5,
   "id": "5280da61",
   "metadata": {},
   "outputs": [
    {
     "name": "stdout",
     "output_type": "stream",
     "text": [
      "1\n",
      "1\n",
      "1\n",
      "2\n",
      "[[0, 0, 0], [0, 0, 1], [0, 1, 0], [1, 0, 0], [1, 1, 1]]\n"
     ]
    }
   ],
   "source": [
    "if __name__ == '__main__':\n",
    "    #x =1 y=1 z =1 n =2\n",
    "    x = int(input(\"press the number till which 1 cordinate should go :\"))\n",
    "    y = int(input(\"press the number till which 2 cordinate should go :\"))\n",
    "    z = int(input(\"press the number till which 3 cordinate should go :\"))\n",
    "    n = int(input(\"press the number maximum number which will stop the combination\"))\n",
    "    a =[]\n",
    "    b=[]\n",
    "    for i in range(x+1):\n",
    "        for j in range(y+1):\n",
    "            for k in range(z+1):\n",
    "                if i+j+k !=n:\n",
    "                     b=[i,j,k]\n",
    "                     a.append(b)\n",
    "                    \n",
    "print(a)\n",
    "                   "
   ]
  },
  {
   "cell_type": "markdown",
   "id": "dd309163",
   "metadata": {},
   "source": [
    "Given the participants' score sheet for your University Sports Day, you are required to find the runner-up score. You are given  scores. Store them in a list and find the score of the runner-up.\n",
    "\n",
    "Input Format\n",
    "\n",
    "The first line contains . The second line contains an array   of  integers each separated by a space.\n",
    "\n",
    "Constraints\n",
    "\n",
    "Output Format\n",
    "\n",
    "Print the runner-up score."
   ]
  },
  {
   "cell_type": "code",
   "execution_count": null,
   "id": "ff605a60",
   "metadata": {},
   "outputs": [],
   "source": [
    "if __name__ == '__main__':\n",
    "    n = int(input())\n",
    "    arr = map(int, input().split())\n",
    "    print(sorted(list(set(arr)))[-2])\n",
    "    #n =5  arr= 23665\n",
    "    "
   ]
  },
  {
   "cell_type": "markdown",
   "id": "5604ccb7",
   "metadata": {},
   "source": [
    "Let's dive into decorators! You are given  mobile numbers. Sort them in ascending order then print them in the standard format shown below:\n",
    "\n",
    "\n",
    "+91 xxxxx xxxxx\n",
    "\n",
    "The given mobile numbers may have ,  or  written before the actual  digit number. Alternatively, there may not be any prefix at all.\n",
    "\n",
    "Input Format\n",
    "\n",
    "The first line of input contains an integer , the number of mobile phone numbers.\n",
    " lines follow each containing a mobile number.\n",
    "\n",
    "Output Format\n",
    "\n",
    "Print  mobile numbers on separate lines in the required format."
   ]
  },
  {
   "cell_type": "code",
   "execution_count": null,
   "id": "c5297358",
   "metadata": {},
   "outputs": [],
   "source": [
    "def wrap(x):\n",
    "    def num(l):\n",
    "        f(\"+91\"+i[-10:-5] +\" \"+i[-5:] for i in l)\n",
    "    return num\n",
    "        \n",
    "#@wrapper\n",
    "def sort_phone(l):\n",
    "    print(*sorted(l), sep='\\n')\n",
    "\n",
    "if __name__ == '__main__':\n",
    "    l = [input() for _ in range(int(input()))]\n",
    "    sort_phone(l) "
   ]
  },
  {
   "cell_type": "code",
   "execution_count": 9,
   "id": "3c21380b",
   "metadata": {},
   "outputs": [
    {
     "ename": "TypeError",
     "evalue": "unsupported operand type(s) for +: 'int' and 'str'",
     "output_type": "error",
     "traceback": [
      "\u001b[1;31m---------------------------------------------------------------------------\u001b[0m",
      "\u001b[1;31mTypeError\u001b[0m                                 Traceback (most recent call last)",
      "Input \u001b[1;32mIn [9]\u001b[0m, in \u001b[0;36m<module>\u001b[1;34m\u001b[0m\n\u001b[0;32m      5\u001b[0m     \u001b[38;5;28mprint\u001b[39m(arr)\n\u001b[0;32m      7\u001b[0m n\u001b[38;5;241m=\u001b[39m\u001b[38;5;124m'\u001b[39m\u001b[38;5;124mpriti\u001b[39m\u001b[38;5;124m'\u001b[39m\n\u001b[1;32m----> 8\u001b[0m \u001b[43mnum\u001b[49m\u001b[43m(\u001b[49m\u001b[43mn\u001b[49m\u001b[43m)\u001b[49m\n",
      "Input \u001b[1;32mIn [9]\u001b[0m, in \u001b[0;36mnum\u001b[1;34m(n)\u001b[0m\n\u001b[0;32m      2\u001b[0m x\u001b[38;5;241m=\u001b[39m\u001b[38;5;241m0\u001b[39m\n\u001b[0;32m      3\u001b[0m \u001b[38;5;28;01mfor\u001b[39;00m i \u001b[38;5;129;01min\u001b[39;00m n:\n\u001b[1;32m----> 4\u001b[0m     arr\u001b[38;5;241m=\u001b[39m \u001b[43mx\u001b[49m\u001b[38;5;241;43m+\u001b[39;49m\u001b[38;5;28;43mstr\u001b[39;49m\u001b[43m(\u001b[49m\u001b[43mi\u001b[49m\u001b[43m)\u001b[49m\n\u001b[0;32m      5\u001b[0m \u001b[38;5;28mprint\u001b[39m(arr)\n",
      "\u001b[1;31mTypeError\u001b[0m: unsupported operand type(s) for +: 'int' and 'str'"
     ]
    }
   ],
   "source": []
  },
  {
   "cell_type": "code",
   "execution_count": null,
   "id": "71fc31d9",
   "metadata": {},
   "outputs": [],
   "source": []
  }
 ],
 "metadata": {
  "kernelspec": {
   "display_name": "Python 3 (ipykernel)",
   "language": "python",
   "name": "python3"
  },
  "language_info": {
   "codemirror_mode": {
    "name": "ipython",
    "version": 3
   },
   "file_extension": ".py",
   "mimetype": "text/x-python",
   "name": "python",
   "nbconvert_exporter": "python",
   "pygments_lexer": "ipython3",
   "version": "3.10.8"
  }
 },
 "nbformat": 4,
 "nbformat_minor": 5
}
