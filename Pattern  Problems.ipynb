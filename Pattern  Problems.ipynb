{
 "cells": [
  {
   "cell_type": "markdown",
   "id": "a4304130",
   "metadata": {},
   "source": [
    "#   PATTERNS PROBLEMS"
   ]
  },
  {
   "cell_type": "code",
   "execution_count": 1,
   "id": "0a361acd",
   "metadata": {},
   "outputs": [
    {
     "name": "stdout",
     "output_type": "stream",
     "text": [
      "Enter the number of rows10\n",
      "**********\n",
      "**********\n",
      "**********\n",
      "**********\n",
      "**********\n",
      "**********\n",
      "**********\n",
      "**********\n",
      "**********\n",
      "**********\n"
     ]
    }
   ],
   "source": [
    "user =int(input(\"Enter the number of rows\"))\n",
    "for i  in range(1,user+1):\n",
    "    print(\"*\" *user)\n"
   ]
  },
  {
   "cell_type": "code",
   "execution_count": 2,
   "id": "b5837477",
   "metadata": {},
   "outputs": [
    {
     "name": "stdout",
     "output_type": "stream",
     "text": [
      "Enter the number of rows10\n",
      "1111111111\n",
      "2222222222\n",
      "3333333333\n",
      "4444444444\n",
      "5555555555\n",
      "6666666666\n",
      "7777777777\n",
      "8888888888\n",
      "9999999999\n",
      "10101010101010101010\n"
     ]
    }
   ],
   "source": [
    "user =int(input(\"Enter the number of rows\"))\n",
    "for i in range (1, user+1):\n",
    "    for j in range(1, user+1):\n",
    "        print(i,end='')\n",
    "    print()"
   ]
  },
  {
   "cell_type": "code",
   "execution_count": 3,
   "id": "da292ab2",
   "metadata": {},
   "outputs": [
    {
     "name": "stdout",
     "output_type": "stream",
     "text": [
      "Enter the number of rows10\n",
      "12345678910\n",
      "12345678910\n",
      "12345678910\n",
      "12345678910\n",
      "12345678910\n",
      "12345678910\n",
      "12345678910\n",
      "12345678910\n",
      "12345678910\n",
      "12345678910\n"
     ]
    }
   ],
   "source": [
    "user = int(input(\"Enter the number of rows\"))\n",
    "for i in range(1,user+1):\n",
    "    for j in range(1,user+1):\n",
    "        print(j, end=\"\")\n",
    "    print()"
   ]
  },
  {
   "cell_type": "code",
   "execution_count": 4,
   "id": "c6e56794",
   "metadata": {},
   "outputs": [
    {
     "name": "stdout",
     "output_type": "stream",
     "text": [
      "Enter the number of rows10\n",
      "AAAAAAAAAA\n",
      "BBBBBBBBBB\n",
      "CCCCCCCCCC\n",
      "DDDDDDDDDD\n",
      "EEEEEEEEEE\n",
      "FFFFFFFFFF\n",
      "GGGGGGGGGG\n",
      "HHHHHHHHHH\n",
      "IIIIIIIIII\n",
      "JJJJJJJJJJ\n"
     ]
    }
   ],
   "source": [
    "user = int(input(\"Enter the number of rows\"))\n",
    "for i in range(1,user+1):\n",
    "    for j in range(1,user+1):\n",
    "        print(chr(64+i), end=\"\")\n",
    "    print()"
   ]
  },
  {
   "cell_type": "code",
   "execution_count": 5,
   "id": "fa15278f",
   "metadata": {},
   "outputs": [
    {
     "name": "stdout",
     "output_type": "stream",
     "text": [
      "Enter the number of rows10\n",
      "ABCDEFGHIJ\n",
      "ABCDEFGHIJ\n",
      "ABCDEFGHIJ\n",
      "ABCDEFGHIJ\n",
      "ABCDEFGHIJ\n",
      "ABCDEFGHIJ\n",
      "ABCDEFGHIJ\n",
      "ABCDEFGHIJ\n",
      "ABCDEFGHIJ\n",
      "ABCDEFGHIJ\n"
     ]
    }
   ],
   "source": [
    "user = int(input(\"Enter the number of rows\"))\n",
    "for i in range (1,user+1):\n",
    "    for j in range(1,user+1):\n",
    "        print(chr(64+j),end=\"\")\n",
    "    print()"
   ]
  },
  {
   "cell_type": "code",
   "execution_count": 6,
   "id": "2e325467",
   "metadata": {},
   "outputs": [
    {
     "name": "stdout",
     "output_type": "stream",
     "text": [
      "Enter the number of rows10\n",
      "10101010101010101010\n",
      "9999999999\n",
      "8888888888\n",
      "7777777777\n",
      "6666666666\n",
      "5555555555\n",
      "4444444444\n",
      "3333333333\n",
      "2222222222\n",
      "1111111111\n"
     ]
    }
   ],
   "source": [
    "user =int(input(\"Enter the number of rows\"))\n",
    "for i in range (1, user+1):\n",
    "    for j in range (1, user+1):\n",
    "        print(user+1-i ,end=\"\")\n",
    "    print()"
   ]
  },
  {
   "cell_type": "code",
   "execution_count": 7,
   "id": "11a7d797",
   "metadata": {},
   "outputs": [
    {
     "name": "stdout",
     "output_type": "stream",
     "text": [
      "Enter the numbers of  rows10\n",
      "10987654321\n",
      "10987654321\n",
      "10987654321\n",
      "10987654321\n",
      "10987654321\n",
      "10987654321\n",
      "10987654321\n",
      "10987654321\n",
      "10987654321\n",
      "10987654321\n"
     ]
    }
   ],
   "source": [
    "user =int(input(\"Enter the numbers of  rows\"))\n",
    "for i in range(1, user+1):\n",
    "    for j in range(1, user+1):\n",
    "        print(user+1-j ,end='')\n",
    "    print()"
   ]
  },
  {
   "cell_type": "code",
   "execution_count": 8,
   "id": "534be565",
   "metadata": {},
   "outputs": [
    {
     "name": "stdout",
     "output_type": "stream",
     "text": [
      "Enter the numbers of  rows10\n",
      "JJJJJJJJJJ\n",
      "IIIIIIIIII\n",
      "HHHHHHHHHH\n",
      "GGGGGGGGGG\n",
      "FFFFFFFFFF\n",
      "EEEEEEEEEE\n",
      "DDDDDDDDDD\n",
      "CCCCCCCCCC\n",
      "BBBBBBBBBB\n",
      "AAAAAAAAAA\n"
     ]
    }
   ],
   "source": [
    "user =int(input(\"Enter the numbers of  rows\"))\n",
    "for i in range(1, user+1):\n",
    "    for j in range(1, user+1):\n",
    "        print( chr(65+user-i) ,end='')\n",
    "    print()"
   ]
  },
  {
   "cell_type": "code",
   "execution_count": 9,
   "id": "279699ac",
   "metadata": {},
   "outputs": [
    {
     "name": "stdout",
     "output_type": "stream",
     "text": [
      "Enter the numbers of  rows10\n",
      "JIHGFEDCBA\n",
      "JIHGFEDCBA\n",
      "JIHGFEDCBA\n",
      "JIHGFEDCBA\n",
      "JIHGFEDCBA\n",
      "JIHGFEDCBA\n",
      "JIHGFEDCBA\n",
      "JIHGFEDCBA\n",
      "JIHGFEDCBA\n",
      "JIHGFEDCBA\n"
     ]
    }
   ],
   "source": [
    "user =int(input(\"Enter the numbers of  rows\"))\n",
    "for i in range(1, user+1):\n",
    "    for j in range(1, user+1):\n",
    "        print(chr(65+user-j) ,end='')\n",
    "    print()"
   ]
  },
  {
   "cell_type": "code",
   "execution_count": 26,
   "id": "076579e4",
   "metadata": {},
   "outputs": [
    {
     "name": "stdout",
     "output_type": "stream",
     "text": [
      "Enter the number of rows10\n",
      "*\n",
      "**\n",
      "***\n",
      "****\n",
      "*****\n",
      "******\n",
      "*******\n",
      "********\n",
      "*********\n",
      "**********\n"
     ]
    }
   ],
   "source": [
    "user= int(input(\"Enter the number of rows\"))\n",
    "for i in range (1 ,user+1):\n",
    "    for j in range(1, i+1):\n",
    "        print(\"*\" ,end=\"\")\n",
    "    print()"
   ]
  },
  {
   "cell_type": "code",
   "execution_count": 11,
   "id": "53244aa2",
   "metadata": {},
   "outputs": [
    {
     "name": "stdout",
     "output_type": "stream",
     "text": [
      "Enter the number of rows10\n",
      "*\n",
      "**\n",
      "***\n",
      "****\n",
      "*****\n",
      "******\n",
      "*******\n",
      "********\n",
      "*********\n",
      "**********\n"
     ]
    }
   ],
   "source": [
    "#Same answer for above question\n",
    "user= int(input(\"Enter the number of rows\"))\n",
    "for i in range (1 ,user+1):\n",
    "    print(\"*\"*i)\n",
    "\n",
    "\n"
   ]
  },
  {
   "cell_type": "code",
   "execution_count": 12,
   "id": "4c8c21ed",
   "metadata": {},
   "outputs": [
    {
     "name": "stdout",
     "output_type": "stream",
     "text": [
      "Enter the numbers of rows10\n",
      "1\n",
      "22\n",
      "333\n",
      "4444\n",
      "55555\n",
      "666666\n",
      "7777777\n",
      "88888888\n",
      "999999999\n",
      "10101010101010101010\n"
     ]
    }
   ],
   "source": [
    "user = int(input(\"Enter the numbers of rows\"))\n",
    "for i in range (1, user+1):\n",
    "    for j in range(1,i+1):\n",
    "        print(i, end='')\n",
    "    print()"
   ]
  },
  {
   "cell_type": "code",
   "execution_count": 13,
   "id": "40c9c1f8",
   "metadata": {},
   "outputs": [
    {
     "name": "stdout",
     "output_type": "stream",
     "text": [
      "Enter the numbers of rows 10\n",
      "1\n",
      "12\n",
      "123\n",
      "1234\n",
      "12345\n",
      "123456\n",
      "1234567\n",
      "12345678\n",
      "123456789\n",
      "12345678910\n"
     ]
    }
   ],
   "source": [
    "user = int(input(\"Enter the numbers of rows \" ))\n",
    "for i in range (1, user+1):\n",
    "    for j in range(1,i+1):\n",
    "        print(j, end='')\n",
    "    print()"
   ]
  },
  {
   "cell_type": "code",
   "execution_count": 14,
   "id": "c5b371b8",
   "metadata": {},
   "outputs": [
    {
     "name": "stdout",
     "output_type": "stream",
     "text": [
      "enter the number of rows10\n",
      "A\n",
      "BB\n",
      "CCC\n",
      "DDDD\n",
      "EEEEE\n",
      "FFFFFF\n",
      "GGGGGGG\n",
      "HHHHHHHH\n",
      "IIIIIIIII\n",
      "JJJJJJJJJJ\n"
     ]
    }
   ],
   "source": [
    "user = int(input(\"enter the number of rows\"))\n",
    "for i in range(1, user+1):\n",
    "    for j in range(1, i+1):\n",
    "        print(chr(64+i), end='')\n",
    "    print()"
   ]
  },
  {
   "cell_type": "code",
   "execution_count": 15,
   "id": "6c43eb2d",
   "metadata": {},
   "outputs": [
    {
     "name": "stdout",
     "output_type": "stream",
     "text": [
      "enter the number of rows10\n",
      "A\n",
      "AB\n",
      "ABC\n",
      "ABCD\n",
      "ABCDE\n",
      "ABCDEF\n",
      "ABCDEFG\n",
      "ABCDEFGH\n",
      "ABCDEFGHI\n",
      "ABCDEFGHIJ\n"
     ]
    }
   ],
   "source": [
    "user = int(input(\"enter the number of rows\"))\n",
    "for i in range(1, user+1):\n",
    "    for j in range(1, i+1):\n",
    "        print(chr(64+j), end='')\n",
    "    print()"
   ]
  },
  {
   "cell_type": "code",
   "execution_count": 16,
   "id": "66b10222",
   "metadata": {},
   "outputs": [
    {
     "name": "stdout",
     "output_type": "stream",
     "text": [
      "enter the number of rows10\n",
      "**********\n",
      "*********\n",
      "********\n",
      "*******\n",
      "******\n",
      "*****\n",
      "****\n",
      "***\n",
      "**\n",
      "*\n"
     ]
    }
   ],
   "source": [
    "user = int(input(\"enter the number of rows\"))\n",
    "for i in range(1, user+1):\n",
    "    for j in range(1, user+2-i):\n",
    "        print('*', end='')\n",
    "    print()"
   ]
  },
  {
   "cell_type": "code",
   "execution_count": 17,
   "id": "113a69a3",
   "metadata": {},
   "outputs": [
    {
     "name": "stdout",
     "output_type": "stream",
     "text": [
      "enter the number of rows10\n",
      "1111111111\n",
      "222222222\n",
      "33333333\n",
      "4444444\n",
      "555555\n",
      "66666\n",
      "7777\n",
      "888\n",
      "99\n",
      "10\n"
     ]
    }
   ],
   "source": [
    "user = int(input(\"enter the number of rows\"))\n",
    "for i in range(1, user+1):\n",
    "    for j in range(1, user+2-i):\n",
    "        print(i, end='')\n",
    "    print()"
   ]
  },
  {
   "cell_type": "code",
   "execution_count": 18,
   "id": "2c29399e",
   "metadata": {},
   "outputs": [
    {
     "name": "stdout",
     "output_type": "stream",
     "text": [
      "enter the number of rows10\n",
      "12345678910\n",
      "123456789\n",
      "12345678\n",
      "1234567\n",
      "123456\n",
      "12345\n",
      "1234\n",
      "123\n",
      "12\n",
      "1\n"
     ]
    }
   ],
   "source": [
    "user = int(input(\"enter the number of rows\"))\n",
    "for i in range(1, user+1):\n",
    "    for j in range(1, user+2-i):\n",
    "        print(j, end='')\n",
    "    print()"
   ]
  },
  {
   "cell_type": "code",
   "execution_count": 19,
   "id": "c974c764",
   "metadata": {},
   "outputs": [
    {
     "name": "stdout",
     "output_type": "stream",
     "text": [
      "enter the number of rows10\n",
      "AAAAAAAAAA\n",
      "BBBBBBBBB\n",
      "CCCCCCCC\n",
      "DDDDDDD\n",
      "EEEEEE\n",
      "FFFFF\n",
      "GGGG\n",
      "HHH\n",
      "II\n",
      "J\n"
     ]
    }
   ],
   "source": [
    "user = int(input(\"enter the number of rows\"))\n",
    "for i in range(1, user+1):\n",
    "    for j in range(1, user+2-i):\n",
    "        print(chr(64+i), end='')\n",
    "    print()"
   ]
  },
  {
   "cell_type": "code",
   "execution_count": 20,
   "id": "01a3088f",
   "metadata": {},
   "outputs": [
    {
     "name": "stdout",
     "output_type": "stream",
     "text": [
      "enter the number of rows10\n",
      "ABCDEFGHIJ\n",
      "ABCDEFGHI\n",
      "ABCDEFGH\n",
      "ABCDEFG\n",
      "ABCDEF\n",
      "ABCDE\n",
      "ABCD\n",
      "ABC\n",
      "AB\n",
      "A\n"
     ]
    }
   ],
   "source": [
    "user = int(input(\"enter the number of rows\"))\n",
    "for i in range(1, user+1):\n",
    "    for j in range(1, user+2-i):\n",
    "        print(chr(64+j), end='')\n",
    "    print()"
   ]
  },
  {
   "cell_type": "code",
   "execution_count": 21,
   "id": "3e9bac01",
   "metadata": {},
   "outputs": [
    {
     "name": "stdout",
     "output_type": "stream",
     "text": [
      "enter the number of rows10\n",
      "10101010101010101010\n",
      "999999999\n",
      "88888888\n",
      "7777777\n",
      "666666\n",
      "55555\n",
      "4444\n",
      "333\n",
      "22\n",
      "1\n"
     ]
    }
   ],
   "source": [
    "user =int(input('enter the number of rows'))\n",
    "for i in range (1, user+1):\n",
    "    for j in range (1, user+2-i):\n",
    "        print(user+1-i, end='')\n",
    "    print()"
   ]
  },
  {
   "cell_type": "code",
   "execution_count": 22,
   "id": "a5615b61",
   "metadata": {},
   "outputs": [
    {
     "name": "stdout",
     "output_type": "stream",
     "text": [
      "Enter the numbers of rows10\n",
      "10987654321\n",
      "1098765432\n",
      "109876543\n",
      "10987654\n",
      "1098765\n",
      "109876\n",
      "10987\n",
      "1098\n",
      "109\n",
      "10\n"
     ]
    }
   ],
   "source": [
    "user =int(input(\"Enter the numbers of rows\"))\n",
    "for i in range (1, user+1):\n",
    "    for j in range (1, user+2-i):\n",
    "        print(user+1-j, end='')\n",
    "    print()"
   ]
  },
  {
   "cell_type": "code",
   "execution_count": 23,
   "id": "076fb999",
   "metadata": {},
   "outputs": [
    {
     "name": "stdout",
     "output_type": "stream",
     "text": [
      "Enter the numbers of rows10\n",
      "JJJJJJJJJJ\n",
      "IIIIIIIII\n",
      "HHHHHHHH\n",
      "GGGGGGG\n",
      "FFFFFF\n",
      "EEEEE\n",
      "DDDD\n",
      "CCC\n",
      "BB\n",
      "A\n"
     ]
    }
   ],
   "source": [
    "user =int(input(\"Enter the numbers of rows\"))\n",
    "for i in range (1, user+1):\n",
    "    for j in range (1, user+2-i):\n",
    "        print(chr(65+user-i), end='')\n",
    "    print()"
   ]
  },
  {
   "cell_type": "code",
   "execution_count": 24,
   "id": "6ead0607",
   "metadata": {},
   "outputs": [
    {
     "name": "stdout",
     "output_type": "stream",
     "text": [
      "Enter the numbers of rows10\n",
      "JIHGFEDCBA\n",
      "JIHGFEDCB\n",
      "JIHGFEDC\n",
      "JIHGFED\n",
      "JIHGFE\n",
      "JIHGF\n",
      "JIHG\n",
      "JIH\n",
      "JI\n",
      "J\n"
     ]
    }
   ],
   "source": [
    "user =int(input(\"Enter the numbers of rows\"))\n",
    "for i in range (1, user+1):\n",
    "    for j in range (1, user+2-i):\n",
    "        print(chr(65+user-j), end='')\n",
    "    print()"
   ]
  },
  {
   "cell_type": "code",
   "execution_count": 40,
   "id": "bf5396ed",
   "metadata": {},
   "outputs": [
    {
     "name": "stdout",
     "output_type": "stream",
     "text": [
      "Enter the number of rows10\n",
      "          * \n",
      "         ** \n",
      "        *** \n",
      "       **** \n",
      "      ***** \n",
      "     ****** \n",
      "    ******* \n",
      "   ******** \n",
      "  ********* \n",
      " ********** \n"
     ]
    }
   ],
   "source": [
    "user = int(input(\"Enter the number of rows\"))\n",
    "for i in range(1,user+1):\n",
    "    print(\" \"*(user-i) , \"*\"*i+\" \" ,end=\"\")\n",
    "    print()"
   ]
  },
  {
   "cell_type": "code",
   "execution_count": 59,
   "id": "b07eeedf",
   "metadata": {},
   "outputs": [
    {
     "name": "stdout",
     "output_type": "stream",
     "text": [
      "Enter the number of rows10\n",
      "         * \n",
      "        * * \n",
      "       * * * \n",
      "      * * * * \n",
      "     * * * * * \n",
      "    * * * * * * \n",
      "   * * * * * * * \n",
      "  * * * * * * * * \n",
      " * * * * * * * * * \n",
      "* * * * * * * * * * \n"
     ]
    }
   ],
   "source": [
    "user = int(input(\"Enter the number of rows\"))\n",
    "for i in range(1,user+1):\n",
    "    print(\" \"*(user-i) , end=\"\")\n",
    "    for j in range (1,i+1):\n",
    "        print(\"*\"+\" \" , end=\"\")\n",
    "    print()"
   ]
  },
  {
   "cell_type": "code",
   "execution_count": 47,
   "id": "0fa346e3",
   "metadata": {},
   "outputs": [
    {
     "name": "stdout",
     "output_type": "stream",
     "text": [
      "Enter the number of rows10\n",
      "          1 \n",
      "         2 2 \n",
      "        3 3 3 \n",
      "       4 4 4 4 \n",
      "      5 5 5 5 5 \n",
      "     6 6 6 6 6 6 \n",
      "    7 7 7 7 7 7 7 \n",
      "   8 8 8 8 8 8 8 8 \n",
      "  9 9 9 9 9 9 9 9 9 \n",
      " 10 10 10 10 10 10 10 10 10 10 \n"
     ]
    }
   ],
   "source": [
    "user = int(input(\"Enter the number of rows\"))\n",
    "for i in range(1,user+1):\n",
    "    print(\" \"*(user-i) , (str(i)+ \" \")*i ,end=\"\" )\n",
    "    print()"
   ]
  },
  {
   "cell_type": "code",
   "execution_count": 50,
   "id": "7c2e120a",
   "metadata": {},
   "outputs": [
    {
     "name": "stdout",
     "output_type": "stream",
     "text": [
      "Enter the number of rows10\n",
      "          1 \n",
      "         1 2 \n",
      "        1 2 3 \n",
      "       1 2 3 4 \n",
      "      1 2 3 4 5 \n",
      "     1 2 3 4 5 6 \n",
      "    1 2 3 4 5 6 7 \n",
      "   1 2 3 4 5 6 7 8 \n",
      "  1 2 3 4 5 6 7 8 9 \n",
      " 1 2 3 4 5 6 7 8 9 10 \n"
     ]
    }
   ],
   "source": [
    "user = int(input(\"Enter the number of rows\"))\n",
    "for i in range(1,user+1):\n",
    "    print(\" \"* (user-i) , end=\" \")\n",
    "    for j in range (1, i+1):\n",
    "        print((str(j)+\" \"), end=\"\")\n",
    "    print()"
   ]
  },
  {
   "cell_type": "code",
   "execution_count": 58,
   "id": "6189dafc",
   "metadata": {},
   "outputs": [
    {
     "name": "stdout",
     "output_type": "stream",
     "text": [
      "Enter the number of rows10\n",
      "          A \n",
      "         B B \n",
      "        C C C \n",
      "       D D D D \n",
      "      E E E E E \n",
      "     F F F F F F \n",
      "    G G G G G G G \n",
      "   H H H H H H H H \n",
      "  I I I I I I I I I \n",
      " J J J J J J J J J J \n"
     ]
    }
   ],
   "source": [
    "user = int(input(\"Enter the number of rows\"))\n",
    "for i in range(1,user+1):\n",
    "    print(\" \"* (user-i) , end=\" \")\n",
    "    for j in range (1, i+1):\n",
    "        print(chr(64+i)+\" \", end=\"\")\n",
    "    print()"
   ]
  },
  {
   "cell_type": "code",
   "execution_count": 60,
   "id": "87c13d0c",
   "metadata": {},
   "outputs": [
    {
     "name": "stdout",
     "output_type": "stream",
     "text": [
      "Enter the number of rows10\n",
      " **********\n",
      "  *********\n",
      "   ********\n",
      "    *******\n",
      "     ******\n",
      "      *****\n",
      "       ****\n",
      "        ***\n",
      "         **\n",
      "          *\n"
     ]
    }
   ],
   "source": [
    "user = int(input(\"Enter the number of rows\"))\n",
    "for i in range(1,user+1):\n",
    "    print(\" \"*(i-1) ,\"*\"*(user+1-i),end=\"\")\n",
    "    print()"
   ]
  },
  {
   "cell_type": "code",
   "execution_count": 1,
   "id": "768e65bd",
   "metadata": {},
   "outputs": [
    {
     "name": "stdout",
     "output_type": "stream",
     "text": [
      "Enter the number of rows10\n",
      " 10 10 10 10 10 10 10 10 10 10 \n",
      "  9 9 9 9 9 9 9 9 9 \n",
      "   8 8 8 8 8 8 8 8 \n",
      "    7 7 7 7 7 7 7 \n",
      "     6 6 6 6 6 6 \n",
      "      5 5 5 5 5 \n",
      "       4 4 4 4 \n",
      "        3 3 3 \n",
      "         2 2 \n",
      "          1 \n"
     ]
    }
   ],
   "source": [
    "user = int(input(\"Enter the number of rows\"))\n",
    "for i in range(1 ,user+1):\n",
    "    print(\" \"*(i-1) ,(str(user+1-i)+\" \")*(user+1-i), end=\"\")\n",
    "    print()"
   ]
  },
  {
   "cell_type": "code",
   "execution_count": 85,
   "id": "56c2b5c8",
   "metadata": {},
   "outputs": [
    {
     "name": "stdout",
     "output_type": "stream",
     "text": [
      "Enter the number of rows: 10\n",
      "12345678910\n",
      " 123456789\n",
      "  12345678\n",
      "   1234567\n",
      "    123456\n",
      "     12345\n",
      "      1234\n",
      "       123\n",
      "        12\n",
      "         1\n"
     ]
    }
   ],
   "source": [
    "user = int(input(\"Enter the number of rows: \"))\n",
    "for i in range(1,user+1):\n",
    "    print(\" \" *(i-1) , end =\"\")\n",
    "    for j in range (1, user+2-i):\n",
    "        print(str(j) , end=\"\")\n",
    "    print()"
   ]
  },
  {
   "cell_type": "code",
   "execution_count": 86,
   "id": "7b1edc1e",
   "metadata": {},
   "outputs": [
    {
     "name": "stdout",
     "output_type": "stream",
     "text": [
      "Enter the number of rows: 10\n",
      "AAAAAAAAAA\n",
      " BBBBBBBBB\n",
      "  CCCCCCCC\n",
      "   DDDDDDD\n",
      "    EEEEEE\n",
      "     FFFFF\n",
      "      GGGG\n",
      "       HHH\n",
      "        II\n",
      "         J\n"
     ]
    }
   ],
   "source": [
    "user = int(input(\"Enter the number of rows: \"))\n",
    "for i in range(1,user+1):\n",
    "    print(\" \" *(i-1) , end =\"\")\n",
    "    for j in range (1, user+2-i):\n",
    "        print(chr(64+i) , end=\"\")\n",
    "    print()"
   ]
  },
  {
   "cell_type": "code",
   "execution_count": 89,
   "id": "e144b7db",
   "metadata": {},
   "outputs": [
    {
     "name": "stdout",
     "output_type": "stream",
     "text": [
      "Enter the number of rows: 10\n",
      "ABCDEFGHIJ\n",
      " ABCDEFGHI\n",
      "  ABCDEFGH\n",
      "   ABCDEFG\n",
      "    ABCDEF\n",
      "     ABCDE\n",
      "      ABCD\n",
      "       ABC\n",
      "        AB\n",
      "         A\n"
     ]
    }
   ],
   "source": [
    "user = int(input(\"Enter the number of rows: \"))\n",
    "for i in range(1,user+1):\n",
    "    print(\" \" *(i-1) , end =\"\")\n",
    "    for j in range (1, user+2-i):\n",
    "        print(chr(64+j) , end=\"\")\n",
    "    print()"
   ]
  },
  {
   "cell_type": "code",
   "execution_count": 91,
   "id": "2c2be40f",
   "metadata": {},
   "outputs": [
    {
     "name": "stdout",
     "output_type": "stream",
     "text": [
      "Enter the number of rows: 10\n",
      "JJJJJJJJJJ\n",
      " IIIIIIIII\n",
      "  HHHHHHHH\n",
      "   GGGGGGG\n",
      "    FFFFFF\n",
      "     EEEEE\n",
      "      DDDD\n",
      "       CCC\n",
      "        BB\n",
      "         A\n"
     ]
    }
   ],
   "source": [
    "user = int(input(\"Enter the number of rows: \"))\n",
    "for i in range(1,user+1):\n",
    "    print(\" \" *(i-1) , end =\"\")\n",
    "    for j in range (1, user+2-i):\n",
    "        print(chr(64+user+1-i) , end=\"\")\n",
    "    print()"
   ]
  },
  {
   "cell_type": "code",
   "execution_count": 95,
   "id": "0a168c5b",
   "metadata": {},
   "outputs": [
    {
     "name": "stdout",
     "output_type": "stream",
     "text": [
      "Enter the number of rows: 10\n",
      "           *\n",
      "          ***\n",
      "         *****\n",
      "        *******\n",
      "       *********\n",
      "      ***********\n",
      "     *************\n",
      "    ***************\n",
      "   *****************\n",
      "  *******************\n"
     ]
    }
   ],
   "source": [
    "user = int(input(\"Enter the number of rows: \"))\n",
    "for i in range(1,user+1):\n",
    "    print(\" \" * (user+1-i) , \"*\" *(i*2-1) ,end=\"\" )\n",
    "    print()"
   ]
  },
  {
   "cell_type": "code",
   "execution_count": 97,
   "id": "6e27c3d1",
   "metadata": {},
   "outputs": [
    {
     "name": "stdout",
     "output_type": "stream",
     "text": [
      "Enter the number of rows: 10\n",
      "           1\n",
      "          222\n",
      "         33333\n",
      "        4444444\n",
      "       555555555\n",
      "      66666666666\n",
      "     7777777777777\n",
      "    888888888888888\n",
      "   99999999999999999\n",
      "  10101010101010101010101010101010101010\n"
     ]
    }
   ],
   "source": [
    "user = int(input(\"Enter the number of rows: \"))\n",
    "for i in range(1,user+1):\n",
    "    print(\" \" * (user+1-i), str(i) *(i*2-1) ,end=\"\" )\n",
    "    print()"
   ]
  },
  {
   "cell_type": "code",
   "execution_count": 98,
   "id": "e385a153",
   "metadata": {},
   "outputs": [
    {
     "name": "stdout",
     "output_type": "stream",
     "text": [
      "Enter the number of rows: 10\n",
      "           A\n",
      "          BBB\n",
      "         CCCCC\n",
      "        DDDDDDD\n",
      "       EEEEEEEEE\n",
      "      FFFFFFFFFFF\n",
      "     GGGGGGGGGGGGG\n",
      "    HHHHHHHHHHHHHHH\n",
      "   IIIIIIIIIIIIIIIII\n",
      "  JJJJJJJJJJJJJJJJJJJ\n"
     ]
    }
   ],
   "source": [
    "user = int(input(\"Enter the number of rows: \"))\n",
    "for i in range(1,user+1):\n",
    "    print(\" \" * (user+1-i) , chr(64+i) *(i*2-1) ,end=\"\" )\n",
    "    print()"
   ]
  },
  {
   "cell_type": "code",
   "execution_count": 99,
   "id": "13bbe984",
   "metadata": {},
   "outputs": [
    {
     "name": "stdout",
     "output_type": "stream",
     "text": [
      "Enter the number of rows: 10\n",
      "           A\n",
      "          CCC\n",
      "         EEEEE\n",
      "        GGGGGGG\n",
      "       IIIIIIIII\n",
      "      KKKKKKKKKKK\n",
      "     MMMMMMMMMMMMM\n",
      "    OOOOOOOOOOOOOOO\n",
      "   QQQQQQQQQQQQQQQQQ\n",
      "  SSSSSSSSSSSSSSSSSSS\n"
     ]
    }
   ],
   "source": [
    "user = int(input(\"Enter the number of rows: \"))\n",
    "for i in range(1,user+1):\n",
    "    print(\" \" * (user+1-i) , chr(64+i*2-1) *(i*2-1) ,end=\"\" )\n",
    "    print()"
   ]
  },
  {
   "cell_type": "code",
   "execution_count": 109,
   "id": "a317744f",
   "metadata": {},
   "outputs": [
    {
     "name": "stdout",
     "output_type": "stream",
     "text": [
      "Enter the number of rows :-10\n",
      "          1\n",
      "         321\n",
      "        54321\n",
      "       7654321\n",
      "      987654321\n",
      "     1110987654321\n",
      "    13121110987654321\n",
      "   151413121110987654321\n",
      "  1716151413121110987654321\n",
      " 19181716151413121110987654321\n"
     ]
    }
   ],
   "source": [
    "user = int(input(\"Enter the number of rows :-\"))\n",
    "for i in range (2-1, user+2-1):\n",
    "    print(\" \" *( user+1-i) , end=\"\")\n",
    "    for j in range (i*2-1 , 0,-1):\n",
    "        print(j, end=\"\" )\n",
    "    print()\n",
    "        "
   ]
  },
  {
   "cell_type": "code",
   "execution_count": 110,
   "id": "f25bde91",
   "metadata": {},
   "outputs": [
    {
     "name": "stdout",
     "output_type": "stream",
     "text": [
      "Enter the number of rows :-10\n",
      "          A\n",
      "         CBA\n",
      "        EDCBA\n",
      "       GFEDCBA\n",
      "      IHGFEDCBA\n",
      "     KJIHGFEDCBA\n",
      "    MLKJIHGFEDCBA\n",
      "   ONMLKJIHGFEDCBA\n",
      "  QPONMLKJIHGFEDCBA\n",
      " SRQPONMLKJIHGFEDCBA\n"
     ]
    }
   ],
   "source": [
    "user = int(input(\"Enter the number of rows :-\"))\n",
    "for i in range (2-1, user+2-1):\n",
    "    print(\" \" *( user+1-i) , end=\"\")\n",
    "    for j in range (i*2-1 , 0,-1):\n",
    "        print(chr(64+j), end=\"\" )\n",
    "    print()\n",
    "        "
   ]
  },
  {
   "cell_type": "code",
   "execution_count": 126,
   "id": "8c870c53",
   "metadata": {},
   "outputs": [
    {
     "name": "stdout",
     "output_type": "stream",
     "text": [
      "Enter the number of rows :-10\n",
      "          A \n",
      "         A B C \n",
      "        A B C D E \n",
      "       A B C D E F G \n",
      "      A B C D E F G H I \n",
      "     A B C D E F G H I J K \n",
      "    A B C D E F G H I J K L M \n",
      "   A B C D E F G H I J K L M N O \n",
      "  A B C D E F G H I J K L M N O P Q \n",
      " A B C D E F G H I J K L M N O P Q R S \n"
     ]
    }
   ],
   "source": [
    "user = int(input(\"Enter the number of rows :-\"))\n",
    "for i in range (1, user+1):\n",
    "    print(\" \" *( user+1-i) , end=\"\")\n",
    "    for j in range (0 ,i*2-1):\n",
    "        print(chr(65+j)+ \" \", end=\"\" )\n",
    "    print()\n",
    "        "
   ]
  },
  {
   "cell_type": "code",
   "execution_count": 131,
   "id": "fd3eeebb",
   "metadata": {},
   "outputs": [
    {
     "name": "stdout",
     "output_type": "stream",
     "text": [
      "Enter the number of rows :-10\n",
      "          A \n",
      "         A B C \n",
      "        A B C D E \n",
      "       A B C D E F G \n",
      "      A B C D E F G H I \n",
      "     A B C D E F G H I J K \n",
      "    A B C D E F G H I J K L M \n",
      "   A B C D E F G H I J K L M N O \n",
      "  A B C D E F G H I J K L M N O P Q \n",
      " A B C D E F G H I J K L M N O P Q R S \n"
     ]
    }
   ],
   "source": [
    "user = int(input(\"Enter the number of rows :-\"))\n",
    "for i in range (1, user+1):\n",
    "    print(\" \" *( user+1-i) , end=\"\")\n",
    "    for j in  range (65,65+2*i-1):\n",
    "        print(chr(j)+\" \" , end=\"\")\n",
    "    print()"
   ]
  },
  {
   "cell_type": "code",
   "execution_count": 180,
   "id": "b11baaed",
   "metadata": {},
   "outputs": [
    {
     "name": "stdout",
     "output_type": "stream",
     "text": [
      "Enter the numbers of rows :-10\n",
      "          A\n",
      "         BAB\n",
      "        CBABC\n",
      "       DCBABCD\n",
      "      EDCBABCDE\n",
      "     FEDCBABCDEF\n",
      "    GFEDCBABCDEFG\n",
      "   HGFEDCBABCDEFGH\n",
      "  IHGFEDCBABCDEFGHI\n",
      " JIHGFEDCBABCDEFGHIJ\n"
     ]
    }
   ],
   "source": [
    "# logic\n",
    "user= int(input(\"Enter the numbers of rows :-\"))\n",
    "for i in range (1, user+1 ):\n",
    "    print(\" \"*(user+1-i), end=\"\")\n",
    "    for j in range (i, 0,-1):\n",
    "        print(chr(64+j) , end='')\n",
    "    for k in range (2, i+1):\n",
    "        print(chr(64+k), end=\"\")\n",
    "    print()"
   ]
  },
  {
   "cell_type": "code",
   "execution_count": 150,
   "id": "5efd1dfa",
   "metadata": {},
   "outputs": [
    {
     "name": "stdout",
     "output_type": "stream",
     "text": [
      "Enter the numbers of rows :-10\n",
      "         A\n",
      "        BAB\n",
      "       CBABC\n",
      "      DCBABCD\n",
      "     EDCBABCDE\n",
      "    FEDCBABCDEF\n",
      "   GFEDCBABCDEFG\n",
      "  HGFEDCBABCDEFGH\n",
      " IHGFEDCBABCDEFGHI\n",
      "JIHGFEDCBABCDEFGHIJ\n"
     ]
    }
   ],
   "source": [
    "user= int(input(\"Enter the numbers of rows :-\"))\n",
    "for i in range (1, user+1 ):\n",
    "    print(\" \"*(user-i), end=\"\")\n",
    "    for j in range (1,i):\n",
    "        print(chr(i-j+65) , end='')\n",
    "    for k in range (0, i):\n",
    "        print(chr(65+k), end=\"\")\n",
    "    print()"
   ]
  },
  {
   "cell_type": "code",
   "execution_count": 156,
   "id": "f128cfcd",
   "metadata": {},
   "outputs": [
    {
     "name": "stdout",
     "output_type": "stream",
     "text": [
      "Enter the numbers of rows :-10\n",
      "          1\n",
      "         212\n",
      "        32123\n",
      "       4321234\n",
      "      543212345\n",
      "     65432123456\n",
      "    7654321234567\n",
      "   876543212345678\n",
      "  98765432123456789\n",
      " 109876543212345678910\n"
     ]
    }
   ],
   "source": [
    "user= int(input(\"Enter the numbers of rows :-\"))\n",
    "for i in range (1, user+1 ):\n",
    "    print(\" \"* (user+1-i), end=\"\" )\n",
    "    for j in range (i, 0,-1):\n",
    "        print(j, end=\"\")\n",
    "    for k in range (2,i+1):\n",
    "        print(k, end=\"\")\n",
    "    print()"
   ]
  },
  {
   "cell_type": "code",
   "execution_count": 178,
   "id": "a1344b78",
   "metadata": {},
   "outputs": [
    {
     "name": "stdout",
     "output_type": "stream",
     "text": [
      "Enter the numbers of rows :-10\n",
      "          1\n",
      "         121\n",
      "        12321\n",
      "       1234321\n",
      "      123454321\n",
      "     12345654321\n",
      "    1234567654321\n",
      "   123456787654321\n",
      "  12345678987654321\n",
      " 12345678910987654321\n"
     ]
    }
   ],
   "source": [
    "user= int(input(\"Enter the numbers of rows :-\"))\n",
    "for i in range (1, user+1 ):\n",
    "    print(\" \"*(user+1-i), end=\"\")  \n",
    "    for j in range (1,i+1):\n",
    "        print(j , end=\"\")\n",
    "    for k in range(i-1 ,0,-1):\n",
    "        print(k, end=\"\")\n",
    "    print()"
   ]
  },
  {
   "cell_type": "code",
   "execution_count": null,
   "id": "b78d6375",
   "metadata": {},
   "outputs": [],
   "source": []
  }
 ],
 "metadata": {
  "kernelspec": {
   "display_name": "Python 3 (ipykernel)",
   "language": "python",
   "name": "python3"
  },
  "language_info": {
   "codemirror_mode": {
    "name": "ipython",
    "version": 3
   },
   "file_extension": ".py",
   "mimetype": "text/x-python",
   "name": "python",
   "nbconvert_exporter": "python",
   "pygments_lexer": "ipython3",
   "version": "3.10.8"
  }
 },
 "nbformat": 4,
 "nbformat_minor": 5
}
